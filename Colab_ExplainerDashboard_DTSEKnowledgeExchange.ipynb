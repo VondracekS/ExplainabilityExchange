{
  "cells": [
    {
      "cell_type": "markdown",
      "metadata": {
        "id": "view-in-github",
        "colab_type": "text"
      },
      "source": [
        "<a href=\"https://colab.research.google.com/github/VondracekS/ExplainabilityExchange/blob/master/Colab_ExplainerDashboard_DTSEKnowledgeExchange.ipynb\" target=\"_parent\"><img src=\"https://colab.research.google.com/assets/colab-badge.svg\" alt=\"Open In Colab\"/></a>"
      ]
    },
    {
      "cell_type": "markdown",
      "source": [
        "<p>\n",
        "<center><img width=\"400\" height=\"100\" src=\"https://github.com/VondracekS/ExplainabilityExchange/blob/master/imgs/ais.png?raw=1\" class=\"imagedim\">\n",
        "</p>\n",
        "\n",
        "# Explainer Dashoards Demo Notebook\n",
        "*[Stepan Vondracek](https://people.telekom.de/businesscard?wr=200083284)*\n",
        "\n",
        "\n",
        "\n"
      ],
      "metadata": {
        "collapsed": false,
        "id": "jdqmAco9jVqV"
      }
    },
    {
      "cell_type": "markdown",
      "source": [
        "This is a demo notebook meant to accompany a presentation given within the AIS' Knowledge exchange.\n",
        "The capabilities of the explainer dashboards will be demonstrated using the\n",
        "[Titanic dataset](https://www.kaggle.com/c/titanic) aka the Wonderwall of data science. However, I believe that given\n",
        "the more general audience, the AI/ML experts will pardon me (and the public will appreciate the understandability\n",
        "of the data set.\n",
        "\n",
        "<p>\n",
        "<center><img width=\"300\" height=\"300\" src=\"https://github.com/VondracekS/ExplainabilityExchange/blob/master/imgs/wonder.png?raw=1\" class=\"imagedim\">\n",
        "</p>\n"
      ],
      "metadata": {
        "collapsed": false,
        "id": "m1yCTKBEjVqb"
      }
    },
    {
      "cell_type": "markdown",
      "source": [
        "## 1 Intro"
      ],
      "metadata": {
        "collapsed": false,
        "id": "fYTN21JGjVqf"
      }
    },
    {
      "cell_type": "code",
      "source": [
        "!git clone https://github.com/VondracekS/ExplainabilityExchange.git"
      ],
      "metadata": {
        "colab": {
          "base_uri": "https://localhost:8080/"
        },
        "id": "9-1-jKZVjlZ_",
        "outputId": "6d735c4a-b3a5-410f-fad6-c5b22fa2d8c7"
      },
      "execution_count": 18,
      "outputs": [
        {
          "output_type": "stream",
          "name": "stdout",
          "text": [
            "Cloning into 'ExplainabilityExchange'...\n",
            "remote: Enumerating objects: 25, done.\u001b[K\n",
            "remote: Counting objects: 100% (25/25), done.\u001b[K\n",
            "remote: Compressing objects: 100% (22/22), done.\u001b[K\n",
            "remote: Total 25 (delta 0), reused 25 (delta 0), pack-reused 0\u001b[K\n",
            "Unpacking objects: 100% (25/25), done.\n"
          ]
        }
      ]
    },
    {
      "cell_type": "code",
      "source": [
        "%cd ExplainabilityExchange/"
      ],
      "metadata": {
        "colab": {
          "base_uri": "https://localhost:8080/"
        },
        "id": "593D4Dhcj1FZ",
        "outputId": "0a2b9184-6ba4-4c50-b26c-bde7773e633b"
      },
      "execution_count": 3,
      "outputs": [
        {
          "output_type": "stream",
          "name": "stdout",
          "text": [
            "/content/ExplainabilityExchange\n"
          ]
        }
      ]
    },
    {
      "cell_type": "code",
      "execution_count": 19,
      "outputs": [
        {
          "output_type": "stream",
          "name": "stdout",
          "text": [
            "Looking in indexes: https://pypi.org/simple, https://us-python.pkg.dev/colab-wheels/public/simple/\n",
            "Requirement already satisfied: pandas in /usr/local/lib/python3.7/dist-packages (from -r requirements.txt (line 1)) (1.3.5)\n",
            "Requirement already satisfied: sklearn in /usr/local/lib/python3.7/dist-packages (from -r requirements.txt (line 2)) (0.0.post1)\n",
            "Requirement already satisfied: explainerdashboard in /usr/local/lib/python3.7/dist-packages (from -r requirements.txt (line 3)) (0.3.8.2)\n",
            "Requirement already satisfied: pytz>=2017.3 in /usr/local/lib/python3.7/dist-packages (from pandas->-r requirements.txt (line 1)) (2022.6)\n",
            "Requirement already satisfied: python-dateutil>=2.7.3 in /usr/local/lib/python3.7/dist-packages (from pandas->-r requirements.txt (line 1)) (2.8.2)\n",
            "Requirement already satisfied: numpy>=1.17.3 in /usr/local/lib/python3.7/dist-packages (from pandas->-r requirements.txt (line 1)) (1.21.6)\n",
            "Requirement already satisfied: six>=1.5 in /usr/local/lib/python3.7/dist-packages (from python-dateutil>=2.7.3->pandas->-r requirements.txt (line 1)) (1.15.0)\n",
            "Requirement already satisfied: jupyter-dash in /usr/local/lib/python3.7/dist-packages (from explainerdashboard->-r requirements.txt (line 3)) (0.4.2)\n",
            "Requirement already satisfied: dash-auth in /usr/local/lib/python3.7/dist-packages (from explainerdashboard->-r requirements.txt (line 3)) (1.4.1)\n",
            "Requirement already satisfied: joblib in /usr/local/lib/python3.7/dist-packages (from explainerdashboard->-r requirements.txt (line 3)) (1.2.0)\n",
            "Requirement already satisfied: dash-bootstrap-components<1 in /usr/local/lib/python3.7/dist-packages (from explainerdashboard->-r requirements.txt (line 3)) (0.13.1)\n",
            "Requirement already satisfied: flask-simplelogin in /usr/local/lib/python3.7/dist-packages (from explainerdashboard->-r requirements.txt (line 3)) (0.0.7)\n",
            "Requirement already satisfied: graphviz>=0.18.2 in /usr/local/lib/python3.7/dist-packages (from explainerdashboard->-r requirements.txt (line 3)) (0.20.1)\n",
            "Requirement already satisfied: dash>=2 in /usr/local/lib/python3.7/dist-packages (from explainerdashboard->-r requirements.txt (line 3)) (2.7.0)\n",
            "Requirement already satisfied: Werkzeug<=2.0.3 in /usr/local/lib/python3.7/dist-packages (from explainerdashboard->-r requirements.txt (line 3)) (1.0.1)\n",
            "Requirement already satisfied: oyaml in /usr/local/lib/python3.7/dist-packages (from explainerdashboard->-r requirements.txt (line 3)) (1.0)\n",
            "Requirement already satisfied: dtreeviz>=1.3 in /usr/local/lib/python3.7/dist-packages (from explainerdashboard->-r requirements.txt (line 3)) (1.4.1)\n",
            "Requirement already satisfied: shap>=0.37 in /usr/local/lib/python3.7/dist-packages (from explainerdashboard->-r requirements.txt (line 3)) (0.41.0)\n",
            "Requirement already satisfied: waitress in /usr/local/lib/python3.7/dist-packages (from explainerdashboard->-r requirements.txt (line 3)) (2.1.2)\n",
            "Requirement already satisfied: click in /usr/local/lib/python3.7/dist-packages (from explainerdashboard->-r requirements.txt (line 3)) (7.1.2)\n",
            "Requirement already satisfied: scikit-learn in /usr/local/lib/python3.7/dist-packages (from explainerdashboard->-r requirements.txt (line 3)) (1.0.2)\n",
            "Requirement already satisfied: Flask>=1.0.4 in /usr/local/lib/python3.7/dist-packages (from dash>=2->explainerdashboard->-r requirements.txt (line 3)) (1.1.4)\n",
            "Requirement already satisfied: dash-html-components==2.0.0 in /usr/local/lib/python3.7/dist-packages (from dash>=2->explainerdashboard->-r requirements.txt (line 3)) (2.0.0)\n",
            "Requirement already satisfied: dash-core-components==2.0.0 in /usr/local/lib/python3.7/dist-packages (from dash>=2->explainerdashboard->-r requirements.txt (line 3)) (2.0.0)\n",
            "Requirement already satisfied: plotly>=5.0.0 in /usr/local/lib/python3.7/dist-packages (from dash>=2->explainerdashboard->-r requirements.txt (line 3)) (5.5.0)\n",
            "Requirement already satisfied: dash-table==5.0.0 in /usr/local/lib/python3.7/dist-packages (from dash>=2->explainerdashboard->-r requirements.txt (line 3)) (5.0.0)\n",
            "Requirement already satisfied: pytest in /usr/local/lib/python3.7/dist-packages (from dtreeviz>=1.3->explainerdashboard->-r requirements.txt (line 3)) (3.6.4)\n",
            "Requirement already satisfied: colour in /usr/local/lib/python3.7/dist-packages (from dtreeviz>=1.3->explainerdashboard->-r requirements.txt (line 3)) (0.1.5)\n",
            "Requirement already satisfied: matplotlib in /usr/local/lib/python3.7/dist-packages (from dtreeviz>=1.3->explainerdashboard->-r requirements.txt (line 3)) (3.2.2)\n",
            "Requirement already satisfied: Jinja2<3.0,>=2.10.1 in /usr/local/lib/python3.7/dist-packages (from Flask>=1.0.4->dash>=2->explainerdashboard->-r requirements.txt (line 3)) (2.11.3)\n",
            "Requirement already satisfied: itsdangerous<2.0,>=0.24 in /usr/local/lib/python3.7/dist-packages (from Flask>=1.0.4->dash>=2->explainerdashboard->-r requirements.txt (line 3)) (1.1.0)\n",
            "Requirement already satisfied: MarkupSafe>=0.23 in /usr/local/lib/python3.7/dist-packages (from Jinja2<3.0,>=2.10.1->Flask>=1.0.4->dash>=2->explainerdashboard->-r requirements.txt (line 3)) (2.0.1)\n",
            "Requirement already satisfied: tenacity>=6.2.0 in /usr/local/lib/python3.7/dist-packages (from plotly>=5.0.0->dash>=2->explainerdashboard->-r requirements.txt (line 3)) (8.1.0)\n",
            "Requirement already satisfied: tqdm>4.25.0 in /usr/local/lib/python3.7/dist-packages (from shap>=0.37->explainerdashboard->-r requirements.txt (line 3)) (4.64.1)\n",
            "Requirement already satisfied: packaging>20.9 in /usr/local/lib/python3.7/dist-packages (from shap>=0.37->explainerdashboard->-r requirements.txt (line 3)) (21.3)\n",
            "Requirement already satisfied: cloudpickle in /usr/local/lib/python3.7/dist-packages (from shap>=0.37->explainerdashboard->-r requirements.txt (line 3)) (1.5.0)\n",
            "Requirement already satisfied: scipy in /usr/local/lib/python3.7/dist-packages (from shap>=0.37->explainerdashboard->-r requirements.txt (line 3)) (1.7.3)\n",
            "Requirement already satisfied: numba in /usr/local/lib/python3.7/dist-packages (from shap>=0.37->explainerdashboard->-r requirements.txt (line 3)) (0.56.4)\n",
            "Requirement already satisfied: slicer==0.0.7 in /usr/local/lib/python3.7/dist-packages (from shap>=0.37->explainerdashboard->-r requirements.txt (line 3)) (0.0.7)\n",
            "Requirement already satisfied: pyparsing!=3.0.5,>=2.0.2 in /usr/local/lib/python3.7/dist-packages (from packaging>20.9->shap>=0.37->explainerdashboard->-r requirements.txt (line 3)) (3.0.9)\n",
            "Requirement already satisfied: flask-compress in /usr/local/lib/python3.7/dist-packages (from dash-auth->explainerdashboard->-r requirements.txt (line 3)) (1.13)\n",
            "Requirement already satisfied: ua-parser in /usr/local/lib/python3.7/dist-packages (from dash-auth->explainerdashboard->-r requirements.txt (line 3)) (0.16.1)\n",
            "Requirement already satisfied: flask-seasurf in /usr/local/lib/python3.7/dist-packages (from dash-auth->explainerdashboard->-r requirements.txt (line 3)) (1.1.1)\n",
            "Requirement already satisfied: requests in /usr/local/lib/python3.7/dist-packages (from dash-auth->explainerdashboard->-r requirements.txt (line 3)) (2.23.0)\n",
            "Requirement already satisfied: retrying in /usr/local/lib/python3.7/dist-packages (from dash-auth->explainerdashboard->-r requirements.txt (line 3)) (1.3.4)\n",
            "Requirement already satisfied: chart-studio>=1.0.0 in /usr/local/lib/python3.7/dist-packages (from dash-auth->explainerdashboard->-r requirements.txt (line 3)) (1.1.0)\n",
            "Requirement already satisfied: brotli in /usr/local/lib/python3.7/dist-packages (from flask-compress->dash-auth->explainerdashboard->-r requirements.txt (line 3)) (1.0.9)\n",
            "Requirement already satisfied: flask_wtf in /usr/local/lib/python3.7/dist-packages (from flask-simplelogin->explainerdashboard->-r requirements.txt (line 3)) (1.0.1)\n",
            "Requirement already satisfied: WTForms in /usr/local/lib/python3.7/dist-packages (from flask_wtf->flask-simplelogin->explainerdashboard->-r requirements.txt (line 3)) (3.0.1)\n",
            "Requirement already satisfied: ipython in /usr/local/lib/python3.7/dist-packages (from jupyter-dash->explainerdashboard->-r requirements.txt (line 3)) (7.9.0)\n",
            "Requirement already satisfied: ipykernel in /usr/local/lib/python3.7/dist-packages (from jupyter-dash->explainerdashboard->-r requirements.txt (line 3)) (5.3.4)\n",
            "Requirement already satisfied: ansi2html in /usr/local/lib/python3.7/dist-packages (from jupyter-dash->explainerdashboard->-r requirements.txt (line 3)) (1.8.0)\n",
            "Requirement already satisfied: nest-asyncio in /usr/local/lib/python3.7/dist-packages (from jupyter-dash->explainerdashboard->-r requirements.txt (line 3)) (1.5.6)\n",
            "Requirement already satisfied: importlib-metadata in /usr/local/lib/python3.7/dist-packages (from ansi2html->jupyter-dash->explainerdashboard->-r requirements.txt (line 3)) (4.13.0)\n",
            "Requirement already satisfied: zipp>=0.5 in /usr/local/lib/python3.7/dist-packages (from importlib-metadata->ansi2html->jupyter-dash->explainerdashboard->-r requirements.txt (line 3)) (3.10.0)\n",
            "Requirement already satisfied: typing-extensions>=3.6.4 in /usr/local/lib/python3.7/dist-packages (from importlib-metadata->ansi2html->jupyter-dash->explainerdashboard->-r requirements.txt (line 3)) (4.1.1)\n",
            "Requirement already satisfied: jupyter-client in /usr/local/lib/python3.7/dist-packages (from ipykernel->jupyter-dash->explainerdashboard->-r requirements.txt (line 3)) (6.1.12)\n",
            "Requirement already satisfied: traitlets>=4.1.0 in /usr/local/lib/python3.7/dist-packages (from ipykernel->jupyter-dash->explainerdashboard->-r requirements.txt (line 3)) (5.1.1)\n",
            "Requirement already satisfied: tornado>=4.2 in /usr/local/lib/python3.7/dist-packages (from ipykernel->jupyter-dash->explainerdashboard->-r requirements.txt (line 3)) (6.0.4)\n",
            "Requirement already satisfied: pickleshare in /usr/local/lib/python3.7/dist-packages (from ipython->jupyter-dash->explainerdashboard->-r requirements.txt (line 3)) (0.7.5)\n",
            "Requirement already satisfied: prompt-toolkit<2.1.0,>=2.0.0 in /usr/local/lib/python3.7/dist-packages (from ipython->jupyter-dash->explainerdashboard->-r requirements.txt (line 3)) (2.0.10)\n",
            "Requirement already satisfied: pexpect in /usr/local/lib/python3.7/dist-packages (from ipython->jupyter-dash->explainerdashboard->-r requirements.txt (line 3)) (4.8.0)\n",
            "Requirement already satisfied: jedi>=0.10 in /usr/local/lib/python3.7/dist-packages (from ipython->jupyter-dash->explainerdashboard->-r requirements.txt (line 3)) (0.18.2)\n",
            "Requirement already satisfied: backcall in /usr/local/lib/python3.7/dist-packages (from ipython->jupyter-dash->explainerdashboard->-r requirements.txt (line 3)) (0.2.0)\n",
            "Requirement already satisfied: pygments in /usr/local/lib/python3.7/dist-packages (from ipython->jupyter-dash->explainerdashboard->-r requirements.txt (line 3)) (2.6.1)\n",
            "Requirement already satisfied: decorator in /usr/local/lib/python3.7/dist-packages (from ipython->jupyter-dash->explainerdashboard->-r requirements.txt (line 3)) (4.4.2)\n",
            "Requirement already satisfied: setuptools>=18.5 in /usr/local/lib/python3.7/dist-packages (from ipython->jupyter-dash->explainerdashboard->-r requirements.txt (line 3)) (57.4.0)\n",
            "Requirement already satisfied: parso<0.9.0,>=0.8.0 in /usr/local/lib/python3.7/dist-packages (from jedi>=0.10->ipython->jupyter-dash->explainerdashboard->-r requirements.txt (line 3)) (0.8.3)\n",
            "Requirement already satisfied: wcwidth in /usr/local/lib/python3.7/dist-packages (from prompt-toolkit<2.1.0,>=2.0.0->ipython->jupyter-dash->explainerdashboard->-r requirements.txt (line 3)) (0.2.5)\n",
            "Requirement already satisfied: pyzmq>=13 in /usr/local/lib/python3.7/dist-packages (from jupyter-client->ipykernel->jupyter-dash->explainerdashboard->-r requirements.txt (line 3)) (23.2.1)\n",
            "Requirement already satisfied: jupyter-core>=4.6.0 in /usr/local/lib/python3.7/dist-packages (from jupyter-client->ipykernel->jupyter-dash->explainerdashboard->-r requirements.txt (line 3)) (4.11.2)\n",
            "Requirement already satisfied: kiwisolver>=1.0.1 in /usr/local/lib/python3.7/dist-packages (from matplotlib->dtreeviz>=1.3->explainerdashboard->-r requirements.txt (line 3)) (1.4.4)\n",
            "Requirement already satisfied: cycler>=0.10 in /usr/local/lib/python3.7/dist-packages (from matplotlib->dtreeviz>=1.3->explainerdashboard->-r requirements.txt (line 3)) (0.11.0)\n",
            "Requirement already satisfied: llvmlite<0.40,>=0.39.0dev0 in /usr/local/lib/python3.7/dist-packages (from numba->shap>=0.37->explainerdashboard->-r requirements.txt (line 3)) (0.39.1)\n",
            "Requirement already satisfied: pyyaml in /usr/local/lib/python3.7/dist-packages (from oyaml->explainerdashboard->-r requirements.txt (line 3)) (6.0)\n",
            "Requirement already satisfied: ptyprocess>=0.5 in /usr/local/lib/python3.7/dist-packages (from pexpect->ipython->jupyter-dash->explainerdashboard->-r requirements.txt (line 3)) (0.7.0)\n",
            "Requirement already satisfied: atomicwrites>=1.0 in /usr/local/lib/python3.7/dist-packages (from pytest->dtreeviz>=1.3->explainerdashboard->-r requirements.txt (line 3)) (1.4.1)\n",
            "Requirement already satisfied: py>=1.5.0 in /usr/local/lib/python3.7/dist-packages (from pytest->dtreeviz>=1.3->explainerdashboard->-r requirements.txt (line 3)) (1.11.0)\n",
            "Requirement already satisfied: attrs>=17.4.0 in /usr/local/lib/python3.7/dist-packages (from pytest->dtreeviz>=1.3->explainerdashboard->-r requirements.txt (line 3)) (22.1.0)\n",
            "Requirement already satisfied: pluggy<0.8,>=0.5 in /usr/local/lib/python3.7/dist-packages (from pytest->dtreeviz>=1.3->explainerdashboard->-r requirements.txt (line 3)) (0.7.1)\n",
            "Requirement already satisfied: more-itertools>=4.0.0 in /usr/local/lib/python3.7/dist-packages (from pytest->dtreeviz>=1.3->explainerdashboard->-r requirements.txt (line 3)) (9.0.0)\n",
            "Requirement already satisfied: chardet<4,>=3.0.2 in /usr/local/lib/python3.7/dist-packages (from requests->dash-auth->explainerdashboard->-r requirements.txt (line 3)) (3.0.4)\n",
            "Requirement already satisfied: urllib3!=1.25.0,!=1.25.1,<1.26,>=1.21.1 in /usr/local/lib/python3.7/dist-packages (from requests->dash-auth->explainerdashboard->-r requirements.txt (line 3)) (1.24.3)\n",
            "Requirement already satisfied: idna<3,>=2.5 in /usr/local/lib/python3.7/dist-packages (from requests->dash-auth->explainerdashboard->-r requirements.txt (line 3)) (2.10)\n",
            "Requirement already satisfied: certifi>=2017.4.17 in /usr/local/lib/python3.7/dist-packages (from requests->dash-auth->explainerdashboard->-r requirements.txt (line 3)) (2022.9.24)\n",
            "Requirement already satisfied: threadpoolctl>=2.0.0 in /usr/local/lib/python3.7/dist-packages (from scikit-learn->explainerdashboard->-r requirements.txt (line 3)) (3.1.0)\n"
          ]
        }
      ],
      "source": [
        "# Run if the requirements are not satisfied\n",
        "!pip install -r requirements.txt"
      ],
      "metadata": {
        "pycharm": {
          "is_executing": true
        },
        "colab": {
          "base_uri": "https://localhost:8080/"
        },
        "id": "-ciszQejjVqj",
        "outputId": "162fc8b7-25c1-400f-f4b7-fc425c831184"
      }
    },
    {
      "cell_type": "code",
      "execution_count": 20,
      "outputs": [],
      "source": [
        "# imports\n",
        "import pandas as pd"
      ],
      "metadata": {
        "id": "ENr9f4Y3jVqm"
      }
    },
    {
      "cell_type": "markdown",
      "source": [
        "In this notebook, I use the kaggle titanic data set. The test data does not contain the actual outcome, hence I will just split the train data set."
      ],
      "metadata": {
        "collapsed": false,
        "id": "-6bOM2P2jVqo"
      }
    },
    {
      "cell_type": "code",
      "execution_count": 21,
      "outputs": [],
      "source": [
        "titanic_data = pd.read_csv(\"./data/titanic_train.csv\")"
      ],
      "metadata": {
        "id": "sXeuibcBjVqq"
      }
    },
    {
      "cell_type": "code",
      "execution_count": 22,
      "outputs": [],
      "source": [
        "# Create the new train/test split as kaggle test set does not contain target variable\n",
        "from sklearn.model_selection import train_test_split\n",
        "\n",
        "data = {'train': (train_test_split(titanic_data, test_size=0.2))[0],\n",
        "        'test': (train_test_split(titanic_data, test_size=0.2))[1]}"
      ],
      "metadata": {
        "id": "TZWuo_wujVqs"
      }
    },
    {
      "cell_type": "markdown",
      "source": [
        "This notebook works just for the showcase of Explainer Dashboards, hence I will not perform any extensive\n",
        "feature engineering. I will just convert the *sex* and *passenger class* variables to dummies and drop the\n",
        "nominal variables and then drop all rows affected by missing observations"
      ],
      "metadata": {
        "collapsed": false,
        "id": "UM1bZDHzjVqu"
      }
    },
    {
      "cell_type": "code",
      "execution_count": 23,
      "outputs": [],
      "source": [
        "for name, tbl in data.items():\n",
        "    data[name] = (pd.get_dummies(tbl, columns=['Sex', 'Pclass'], drop_first=True)\n",
        "                 .drop(['Ticket', 'Cabin', 'Embarked', 'Name'], axis=1)\n",
        "                 .set_index('PassengerId')).dropna()\n"
      ],
      "metadata": {
        "id": "Rj7ejB3HjVqx"
      }
    },
    {
      "cell_type": "markdown",
      "source": [
        "For the purposes of this showcase, I will use only two models. The first is just a GLM using the logit link function, the second (to demonstrate\n",
        "the capabilities of SHAP with more complex models) will be Random Forrest which I have previously tuned for\n",
        "the particular specification."
      ],
      "metadata": {
        "collapsed": false,
        "id": "COtEyxx6jVq0"
      }
    },
    {
      "cell_type": "code",
      "execution_count": 24,
      "outputs": [],
      "source": [
        "from sklearn.linear_model import LogisticRegression\n",
        "from sklearn.ensemble import RandomForestClassifier\n",
        "\n",
        "X = data['train'].drop('Survived', axis=1)\n",
        "y = data['train']['Survived']\n",
        "\n",
        "models_dict = {\n",
        "    'logit': LogisticRegression(fit_intercept=False),\n",
        "    'random_forrest': RandomForestClassifier(criterion='gini',\n",
        "                                             n_estimators=700,\n",
        "                                             min_samples_split=10,\n",
        "                                             min_samples_leaf=3,\n",
        "                                             max_features='auto',\n",
        "                                             oob_score=True,\n",
        "                                             random_state=1,\n",
        "                                             n_jobs=-1)\n",
        "}"
      ],
      "metadata": {
        "id": "RTqiregHjVq1"
      }
    },
    {
      "cell_type": "markdown",
      "source": [
        "The following cell is used just to create a regression table for the presentation"
      ],
      "metadata": {
        "id": "hYiR0OEIsmeJ"
      }
    },
    {
      "cell_type": "code",
      "source": [
        "import statsmodels.api as sm\n",
        "\n",
        "X_sm = sm.add_constant(X)\n",
        "sm_mod = sm.Logit(y, X_sm).fit()\n",
        "\n",
        "print(sm_mod.summary())"
      ],
      "metadata": {
        "colab": {
          "base_uri": "https://localhost:8080/"
        },
        "id": "kLe3RswdmNO2",
        "outputId": "eca36ff4-688c-492a-dd64-979e234a0d07"
      },
      "execution_count": 26,
      "outputs": [
        {
          "output_type": "stream",
          "name": "stdout",
          "text": [
            "Optimization terminated successfully.\n",
            "         Current function value: 0.443225\n",
            "         Iterations 6\n",
            "                           Logit Regression Results                           \n",
            "==============================================================================\n",
            "Dep. Variable:               Survived   No. Observations:                  566\n",
            "Model:                          Logit   Df Residuals:                      558\n",
            "Method:                           MLE   Df Model:                            7\n",
            "Date:                Mon, 28 Nov 2022   Pseudo R-squ.:                  0.3445\n",
            "Time:                        19:26:25   Log-Likelihood:                -250.87\n",
            "converged:                       True   LL-Null:                       -382.71\n",
            "Covariance Type:            nonrobust   LLR p-value:                 3.362e-53\n",
            "==============================================================================\n",
            "                 coef    std err          z      P>|z|      [0.025      0.975]\n",
            "------------------------------------------------------------------------------\n",
            "const          4.3515      0.576      7.558      0.000       3.223       5.480\n",
            "Age           -0.0420      0.009     -4.437      0.000      -0.061      -0.023\n",
            "SibSp         -0.2795      0.143     -1.949      0.051      -0.561       0.002\n",
            "Parch         -0.1860      0.140     -1.326      0.185      -0.461       0.089\n",
            "Fare           0.0001      0.003      0.038      0.970      -0.006       0.006\n",
            "Sex_male      -2.7766      0.251    -11.062      0.000      -3.269      -2.285\n",
            "Pclass_2      -1.4119      0.365     -3.873      0.000      -2.126      -0.697\n",
            "Pclass_3      -2.5397      0.383     -6.637      0.000      -3.290      -1.790\n",
            "==============================================================================\n"
          ]
        },
        {
          "output_type": "stream",
          "name": "stderr",
          "text": [
            "/usr/local/lib/python3.7/dist-packages/statsmodels/tsa/tsatools.py:142: FutureWarning:\n",
            "\n",
            "In a future version of pandas all arguments of concat except for the argument 'objs' will be keyword-only\n",
            "\n"
          ]
        }
      ]
    },
    {
      "cell_type": "markdown",
      "source": [
        "The following cells will just create, fit and predict using the particular specifications."
      ],
      "metadata": {
        "collapsed": false,
        "id": "-pld1YzdjVq3"
      }
    },
    {
      "cell_type": "code",
      "execution_count": 27,
      "outputs": [],
      "source": [
        "%%capture\n",
        "#  Add features as an attribute, so I can easily later easily use them as an argument\n",
        "models_fit = {}\n",
        "for mod, specs in models_dict.items():\n",
        "    models_fit[mod] = specs.fit(X, y)\n",
        "    specs.features = list(X.columns)"
      ],
      "metadata": {
        "id": "-Qx6GUd6jVq4"
      }
    },
    {
      "cell_type": "code",
      "execution_count": 28,
      "outputs": [],
      "source": [
        "# Get predictions on the test data\n",
        "models_pred = {}\n",
        "for mod, fit in models_fit.items():\n",
        "    models_pred[mod] = fit.predict(data['test'][fit.features])"
      ],
      "metadata": {
        "id": "eW3_IPu4jVq5"
      }
    },
    {
      "cell_type": "code",
      "execution_count": 29,
      "outputs": [
        {
          "output_type": "stream",
          "name": "stdout",
          "text": [
            "Model logit has a MAE value of: 0.19\n",
            "Model random_forrest has a MAE value of: 0.10\n"
          ]
        }
      ],
      "source": [
        "# Get MAE of both models\n",
        "from sklearn.metrics import mean_absolute_error as mae\n",
        "models_mae = {}\n",
        "for mod, pred in models_pred.items():\n",
        "    models_mae[mod] = mae(pred, data['test']['Survived'])\n",
        "\n",
        "for k, v in models_mae.items():\n",
        "    print(f\"Model {k} has a MAE value of: {v:.2f}\")\n"
      ],
      "metadata": {
        "colab": {
          "base_uri": "https://localhost:8080/"
        },
        "id": "JZ2-OarLjVq5",
        "outputId": "b135ae2b-137d-41c0-8369-cc5e5a5a1199"
      }
    },
    {
      "cell_type": "markdown",
      "source": [
        "#  2 Explainer"
      ],
      "metadata": {
        "collapsed": false,
        "id": "SRBuOuSyjVq7"
      }
    },
    {
      "cell_type": "markdown",
      "source": [
        "Now it's time to demonstrate the capabilities of  Explainer Dashboards"
      ],
      "metadata": {
        "collapsed": false,
        "id": "q0LIKYz1jVq8"
      }
    },
    {
      "cell_type": "code",
      "execution_count": 13,
      "outputs": [
        {
          "output_type": "stream",
          "name": "stderr",
          "text": [
            "\n",
            "The dash_html_components package is deprecated. Please replace\n",
            "`import dash_html_components as html` with `from dash import html`\n",
            "\n",
            "The dash_core_components package is deprecated. Please replace\n",
            "`import dash_core_components as dcc` with `from dash import dcc`\n"
          ]
        }
      ],
      "source": [
        "from explainerdashboard.explainers import ClassifierExplainer"
      ],
      "metadata": {
        "colab": {
          "base_uri": "https://localhost:8080/",
          "height": 124
        },
        "id": "I5ox8qXnjVq9",
        "outputId": "bdb9da03-c3e5-4b77-81d1-0f3dc6418241"
      }
    },
    {
      "cell_type": "code",
      "execution_count": 30,
      "outputs": [],
      "source": [
        "%%capture\n",
        "explainers = {}\n",
        "\n",
        "for model, specs in models_dict.items():\n",
        "    explainers[model] = ClassifierExplainer(model=specs,\n",
        "                                            X=data['test'][models_fit[mod].features],\n",
        "                                            y=data['test']['Survived'],\n",
        "                                            model_output='probability',\n",
        "                                            index_name=\"Passenger ID\"\n",
        "                                            )"
      ],
      "metadata": {
        "id": "u4KGH7-9jVq-"
      }
    },
    {
      "cell_type": "code",
      "source": [
        "from explainerdashboard import ExplainerDashboard\n",
        "ExplainerDashboard(explainers['random_forrest']).run()"
      ],
      "metadata": {
        "colab": {
          "base_uri": "https://localhost:8080/",
          "height": 233
        },
        "id": "SzC4FvIVtnvZ",
        "outputId": "270e5ba5-1d29-463f-f7cf-ccc53f2785d2"
      },
      "execution_count": 32,
      "outputs": [
        {
          "output_type": "stream",
          "name": "stdout",
          "text": [
            "Building ExplainerDashboard..\n",
            "Detected google colab environment, setting mode='external'\n",
            "Warning: calculating shap interaction values can be slow! Pass shap_interaction=False to remove interactions tab.\n",
            "Generating layout...\n",
            "Calculating dependencies...\n",
            "Reminder: you can store the explainer (including calculated dependencies) with explainer.dump('explainer.joblib') and reload with e.g. ClassifierExplainer.from_file('explainer.joblib')\n",
            "Registering callbacks...\n",
            "Starting ExplainerDashboard on http://172.28.0.2:8050\n",
            "You can terminate the dashboard with ExplainerDashboard.terminate(8050)\n",
            "Dash app running on:\n"
          ]
        },
        {
          "output_type": "display_data",
          "data": {
            "text/plain": [
              "<IPython.core.display.Javascript object>"
            ],
            "application/javascript": [
              "(async (port, path, text, element) => {\n",
              "    if (!google.colab.kernel.accessAllowed) {\n",
              "      return;\n",
              "    }\n",
              "    element.appendChild(document.createTextNode(''));\n",
              "    const url = await google.colab.kernel.proxyPort(port);\n",
              "    const anchor = document.createElement('a');\n",
              "    anchor.href = new URL(path, url).toString();\n",
              "    anchor.target = '_blank';\n",
              "    anchor.setAttribute('data-href', url + path);\n",
              "    anchor.textContent = text;\n",
              "    element.appendChild(anchor);\n",
              "  })(8050, \"/\", \"http://127.0.0.1:8050/\", window.element)"
            ]
          },
          "metadata": {}
        }
      ]
    },
    {
      "cell_type": "markdown",
      "source": [
        "## 3 Conclusion\n",
        "\n",
        "This very simple demo notebook was meant to briefly demonstrate the easy-to-use, yet capable Python library. Feel free\n",
        "to contact me as I will surely explore their capabilities more in depth."
      ],
      "metadata": {
        "collapsed": false,
        "id": "0Zg20QWsjVrA"
      }
    },
    {
      "cell_type": "markdown",
      "source": [],
      "metadata": {
        "collapsed": false,
        "id": "dAuSoZUWjVrC"
      }
    }
  ],
  "metadata": {
    "kernelspec": {
      "display_name": "Python 3",
      "language": "python",
      "name": "python3"
    },
    "language_info": {
      "codemirror_mode": {
        "name": "ipython",
        "version": 2
      },
      "file_extension": ".py",
      "mimetype": "text/x-python",
      "name": "python",
      "nbconvert_exporter": "python",
      "pygments_lexer": "ipython2",
      "version": "2.7.6"
    },
    "colab": {
      "provenance": [],
      "include_colab_link": true
    }
  },
  "nbformat": 4,
  "nbformat_minor": 0
}