{
  "nbformat": 4,
  "nbformat_minor": 0,
  "metadata": {
    "colab": {
      "provenance": [],
      "authorship_tag": "ABX9TyNiENPGQhIqWhaBmOFMrk+/",
      "include_colab_link": true
    },
    "kernelspec": {
      "name": "python3",
      "display_name": "Python 3"
    },
    "language_info": {
      "name": "python"
    }
  },
  "cells": [
    {
      "cell_type": "markdown",
      "metadata": {
        "id": "view-in-github",
        "colab_type": "text"
      },
      "source": [
        "<a href=\"https://colab.research.google.com/github/VondracekS/ExplainabilityExchange/blob/master/ExplainerDashboardDemo.ipynb\" target=\"_parent\"><img src=\"https://colab.research.google.com/assets/colab-badge.svg\" alt=\"Open In Colab\"/></a>"
      ]
    },
    {
      "cell_type": "markdown",
      "source": [
        "# Explainer Dashboard Demo"
      ],
      "metadata": {
        "id": "WLGGl0z7bRla"
      }
    },
    {
      "cell_type": "markdown",
      "source": [
        "This demo notebook is created to demonstrate the easy usage of [Explainer Dashboards](https://explainerdashboard.readthedocs.io/en/latest/). It works with commonly known [miles-per-galon](https://data.world/dataman-udit/cars-data) and [penguins](https://github.com/allisonhorst/palmerpenguins) data sets. "
      ],
      "metadata": {
        "id": "8EgKaRLQiEln"
      }
    },
    {
      "cell_type": "code",
      "source": [
        "# at first, install the explainer dashboard library\n",
        "!pip install explainerdashboard"
      ],
      "metadata": {
        "colab": {
          "base_uri": "https://localhost:8080/"
        },
        "id": "iQEVAxhsbk_a",
        "outputId": "aa8df1e9-058a-441e-b176-d171e2c87108"
      },
      "execution_count": 289,
      "outputs": [
        {
          "output_type": "stream",
          "name": "stdout",
          "text": [
            "Looking in indexes: https://pypi.org/simple, https://us-python.pkg.dev/colab-wheels/public/simple/\n",
            "Requirement already satisfied: explainerdashboard in /usr/local/lib/python3.9/dist-packages (0.4.2.1)\n",
            "Requirement already satisfied: waitress in /usr/local/lib/python3.9/dist-packages (from explainerdashboard) (2.1.2)\n",
            "Requirement already satisfied: dash-auth in /usr/local/lib/python3.9/dist-packages (from explainerdashboard) (2.0.0)\n",
            "Requirement already satisfied: scikit-learn>=1.1 in /usr/local/lib/python3.9/dist-packages (from explainerdashboard) (1.2.2)\n",
            "Requirement already satisfied: jupyter-dash>=0.4.1 in /usr/local/lib/python3.9/dist-packages (from explainerdashboard) (0.4.2)\n",
            "Requirement already satisfied: dash-bootstrap-components>=1 in /usr/local/lib/python3.9/dist-packages (from explainerdashboard) (1.4.1)\n",
            "Requirement already satisfied: click in /usr/local/lib/python3.9/dist-packages (from explainerdashboard) (8.1.3)\n",
            "Requirement already satisfied: dash>=2.3.1 in /usr/local/lib/python3.9/dist-packages (from explainerdashboard) (2.9.1)\n",
            "Requirement already satisfied: graphviz>=0.18.2 in /usr/local/lib/python3.9/dist-packages (from explainerdashboard) (0.20.1)\n",
            "Requirement already satisfied: oyaml in /usr/local/lib/python3.9/dist-packages (from explainerdashboard) (1.0)\n",
            "Requirement already satisfied: shap>=0.37 in /usr/local/lib/python3.9/dist-packages (from explainerdashboard) (0.41.0)\n",
            "Requirement already satisfied: flask-simplelogin in /usr/local/lib/python3.9/dist-packages (from explainerdashboard) (0.1.1)\n",
            "Requirement already satisfied: numpy in /usr/local/lib/python3.9/dist-packages (from explainerdashboard) (1.22.4)\n",
            "Requirement already satisfied: joblib in /usr/local/lib/python3.9/dist-packages (from explainerdashboard) (1.1.1)\n",
            "Requirement already satisfied: pandas>=1.1 in /usr/local/lib/python3.9/dist-packages (from explainerdashboard) (1.4.4)\n",
            "Requirement already satisfied: dtreeviz>=2.1 in /usr/local/lib/python3.9/dist-packages (from explainerdashboard) (2.2.0)\n",
            "Requirement already satisfied: dash-table==5.0.0 in /usr/local/lib/python3.9/dist-packages (from dash>=2.3.1->explainerdashboard) (5.0.0)\n",
            "Requirement already satisfied: dash-core-components==2.0.0 in /usr/local/lib/python3.9/dist-packages (from dash>=2.3.1->explainerdashboard) (2.0.0)\n",
            "Requirement already satisfied: Flask>=1.0.4 in /usr/local/lib/python3.9/dist-packages (from dash>=2.3.1->explainerdashboard) (2.2.3)\n",
            "Requirement already satisfied: dash-html-components==2.0.0 in /usr/local/lib/python3.9/dist-packages (from dash>=2.3.1->explainerdashboard) (2.0.0)\n",
            "Requirement already satisfied: plotly>=5.0.0 in /usr/local/lib/python3.9/dist-packages (from dash>=2.3.1->explainerdashboard) (5.13.1)\n",
            "Requirement already satisfied: pytest in /usr/local/lib/python3.9/dist-packages (from dtreeviz>=2.1->explainerdashboard) (7.2.2)\n",
            "Requirement already satisfied: matplotlib in /usr/local/lib/python3.9/dist-packages (from dtreeviz>=2.1->explainerdashboard) (3.7.1)\n",
            "Requirement already satisfied: colour in /usr/local/lib/python3.9/dist-packages (from dtreeviz>=2.1->explainerdashboard) (0.1.5)\n",
            "Requirement already satisfied: ipykernel in /usr/local/lib/python3.9/dist-packages (from jupyter-dash>=0.4.1->explainerdashboard) (5.3.4)\n",
            "Requirement already satisfied: ansi2html in /usr/local/lib/python3.9/dist-packages (from jupyter-dash>=0.4.1->explainerdashboard) (1.8.0)\n",
            "Requirement already satisfied: nest-asyncio in /usr/local/lib/python3.9/dist-packages (from jupyter-dash>=0.4.1->explainerdashboard) (1.5.6)\n",
            "Requirement already satisfied: retrying in /usr/local/lib/python3.9/dist-packages (from jupyter-dash>=0.4.1->explainerdashboard) (1.3.4)\n",
            "Requirement already satisfied: requests in /usr/local/lib/python3.9/dist-packages (from jupyter-dash>=0.4.1->explainerdashboard) (2.27.1)\n",
            "Requirement already satisfied: ipython in /usr/local/lib/python3.9/dist-packages (from jupyter-dash>=0.4.1->explainerdashboard) (7.9.0)\n",
            "Requirement already satisfied: pytz>=2020.1 in /usr/local/lib/python3.9/dist-packages (from pandas>=1.1->explainerdashboard) (2022.7.1)\n",
            "Requirement already satisfied: python-dateutil>=2.8.1 in /usr/local/lib/python3.9/dist-packages (from pandas>=1.1->explainerdashboard) (2.8.2)\n",
            "Requirement already satisfied: threadpoolctl>=2.0.0 in /usr/local/lib/python3.9/dist-packages (from scikit-learn>=1.1->explainerdashboard) (3.1.0)\n",
            "Requirement already satisfied: scipy>=1.3.2 in /usr/local/lib/python3.9/dist-packages (from scikit-learn>=1.1->explainerdashboard) (1.10.1)\n",
            "Requirement already satisfied: tqdm>4.25.0 in /usr/local/lib/python3.9/dist-packages (from shap>=0.37->explainerdashboard) (4.65.0)\n",
            "Requirement already satisfied: cloudpickle in /usr/local/lib/python3.9/dist-packages (from shap>=0.37->explainerdashboard) (2.2.1)\n",
            "Requirement already satisfied: packaging>20.9 in /usr/local/lib/python3.9/dist-packages (from shap>=0.37->explainerdashboard) (23.0)\n",
            "Requirement already satisfied: slicer==0.0.7 in /usr/local/lib/python3.9/dist-packages (from shap>=0.37->explainerdashboard) (0.0.7)\n",
            "Requirement already satisfied: numba in /usr/local/lib/python3.9/dist-packages (from shap>=0.37->explainerdashboard) (0.56.4)\n",
            "Requirement already satisfied: WTForms>=2.1 in /usr/local/lib/python3.9/dist-packages (from flask-simplelogin->explainerdashboard) (3.0.1)\n",
            "Requirement already satisfied: Flask-WTF<0.16.0,>=0.15.1 in /usr/local/lib/python3.9/dist-packages (from flask-simplelogin->explainerdashboard) (0.15.1)\n",
            "Requirement already satisfied: pyyaml in /usr/local/lib/python3.9/dist-packages (from oyaml->explainerdashboard) (6.0)\n",
            "Requirement already satisfied: Werkzeug>=2.2.2 in /usr/local/lib/python3.9/dist-packages (from Flask>=1.0.4->dash>=2.3.1->explainerdashboard) (2.2.3)\n",
            "Requirement already satisfied: Jinja2>=3.0 in /usr/local/lib/python3.9/dist-packages (from Flask>=1.0.4->dash>=2.3.1->explainerdashboard) (3.1.2)\n",
            "Requirement already satisfied: importlib-metadata>=3.6.0 in /usr/local/lib/python3.9/dist-packages (from Flask>=1.0.4->dash>=2.3.1->explainerdashboard) (6.1.0)\n",
            "Requirement already satisfied: itsdangerous>=2.0 in /usr/local/lib/python3.9/dist-packages (from Flask>=1.0.4->dash>=2.3.1->explainerdashboard) (2.1.2)\n",
            "Requirement already satisfied: tenacity>=6.2.0 in /usr/local/lib/python3.9/dist-packages (from plotly>=5.0.0->dash>=2.3.1->explainerdashboard) (8.2.2)\n",
            "Requirement already satisfied: six>=1.5 in /usr/local/lib/python3.9/dist-packages (from python-dateutil>=2.8.1->pandas>=1.1->explainerdashboard) (1.16.0)\n",
            "Requirement already satisfied: MarkupSafe in /usr/local/lib/python3.9/dist-packages (from WTForms>=2.1->flask-simplelogin->explainerdashboard) (2.1.2)\n",
            "Requirement already satisfied: tornado>=4.2 in /usr/local/lib/python3.9/dist-packages (from ipykernel->jupyter-dash>=0.4.1->explainerdashboard) (6.2)\n",
            "Requirement already satisfied: traitlets>=4.1.0 in /usr/local/lib/python3.9/dist-packages (from ipykernel->jupyter-dash>=0.4.1->explainerdashboard) (5.7.1)\n",
            "Requirement already satisfied: jupyter-client in /usr/local/lib/python3.9/dist-packages (from ipykernel->jupyter-dash>=0.4.1->explainerdashboard) (6.1.12)\n",
            "Requirement already satisfied: pygments in /usr/local/lib/python3.9/dist-packages (from ipython->jupyter-dash>=0.4.1->explainerdashboard) (2.14.0)\n",
            "Requirement already satisfied: pickleshare in /usr/local/lib/python3.9/dist-packages (from ipython->jupyter-dash>=0.4.1->explainerdashboard) (0.7.5)\n",
            "Requirement already satisfied: backcall in /usr/local/lib/python3.9/dist-packages (from ipython->jupyter-dash>=0.4.1->explainerdashboard) (0.2.0)\n",
            "Requirement already satisfied: pexpect in /usr/local/lib/python3.9/dist-packages (from ipython->jupyter-dash>=0.4.1->explainerdashboard) (4.8.0)\n",
            "Requirement already satisfied: prompt-toolkit<2.1.0,>=2.0.0 in /usr/local/lib/python3.9/dist-packages (from ipython->jupyter-dash>=0.4.1->explainerdashboard) (2.0.10)\n",
            "Requirement already satisfied: setuptools>=18.5 in /usr/local/lib/python3.9/dist-packages (from ipython->jupyter-dash>=0.4.1->explainerdashboard) (67.6.0)\n",
            "Requirement already satisfied: jedi>=0.10 in /usr/local/lib/python3.9/dist-packages (from ipython->jupyter-dash>=0.4.1->explainerdashboard) (0.18.2)\n",
            "Requirement already satisfied: decorator in /usr/local/lib/python3.9/dist-packages (from ipython->jupyter-dash>=0.4.1->explainerdashboard) (4.4.2)\n",
            "Requirement already satisfied: kiwisolver>=1.0.1 in /usr/local/lib/python3.9/dist-packages (from matplotlib->dtreeviz>=2.1->explainerdashboard) (1.4.4)\n",
            "Requirement already satisfied: pyparsing>=2.3.1 in /usr/local/lib/python3.9/dist-packages (from matplotlib->dtreeviz>=2.1->explainerdashboard) (3.0.9)\n",
            "Requirement already satisfied: pillow>=6.2.0 in /usr/local/lib/python3.9/dist-packages (from matplotlib->dtreeviz>=2.1->explainerdashboard) (8.4.0)\n",
            "Requirement already satisfied: fonttools>=4.22.0 in /usr/local/lib/python3.9/dist-packages (from matplotlib->dtreeviz>=2.1->explainerdashboard) (4.39.2)\n",
            "Requirement already satisfied: cycler>=0.10 in /usr/local/lib/python3.9/dist-packages (from matplotlib->dtreeviz>=2.1->explainerdashboard) (0.11.0)\n",
            "Requirement already satisfied: contourpy>=1.0.1 in /usr/local/lib/python3.9/dist-packages (from matplotlib->dtreeviz>=2.1->explainerdashboard) (1.0.7)\n",
            "Requirement already satisfied: importlib-resources>=3.2.0 in /usr/local/lib/python3.9/dist-packages (from matplotlib->dtreeviz>=2.1->explainerdashboard) (5.12.0)\n",
            "Requirement already satisfied: llvmlite<0.40,>=0.39.0dev0 in /usr/local/lib/python3.9/dist-packages (from numba->shap>=0.37->explainerdashboard) (0.39.1)\n",
            "Requirement already satisfied: exceptiongroup>=1.0.0rc8 in /usr/local/lib/python3.9/dist-packages (from pytest->dtreeviz>=2.1->explainerdashboard) (1.1.1)\n",
            "Requirement already satisfied: attrs>=19.2.0 in /usr/local/lib/python3.9/dist-packages (from pytest->dtreeviz>=2.1->explainerdashboard) (22.2.0)\n",
            "Requirement already satisfied: iniconfig in /usr/local/lib/python3.9/dist-packages (from pytest->dtreeviz>=2.1->explainerdashboard) (2.0.0)\n",
            "Requirement already satisfied: pluggy<2.0,>=0.12 in /usr/local/lib/python3.9/dist-packages (from pytest->dtreeviz>=2.1->explainerdashboard) (1.0.0)\n",
            "Requirement already satisfied: tomli>=1.0.0 in /usr/local/lib/python3.9/dist-packages (from pytest->dtreeviz>=2.1->explainerdashboard) (2.0.1)\n",
            "Requirement already satisfied: charset-normalizer~=2.0.0 in /usr/local/lib/python3.9/dist-packages (from requests->jupyter-dash>=0.4.1->explainerdashboard) (2.0.12)\n",
            "Requirement already satisfied: idna<4,>=2.5 in /usr/local/lib/python3.9/dist-packages (from requests->jupyter-dash>=0.4.1->explainerdashboard) (3.4)\n",
            "Requirement already satisfied: certifi>=2017.4.17 in /usr/local/lib/python3.9/dist-packages (from requests->jupyter-dash>=0.4.1->explainerdashboard) (2022.12.7)\n",
            "Requirement already satisfied: urllib3<1.27,>=1.21.1 in /usr/local/lib/python3.9/dist-packages (from requests->jupyter-dash>=0.4.1->explainerdashboard) (1.26.15)\n",
            "Requirement already satisfied: zipp>=0.5 in /usr/local/lib/python3.9/dist-packages (from importlib-metadata>=3.6.0->Flask>=1.0.4->dash>=2.3.1->explainerdashboard) (3.15.0)\n",
            "Requirement already satisfied: parso<0.9.0,>=0.8.0 in /usr/local/lib/python3.9/dist-packages (from jedi>=0.10->ipython->jupyter-dash>=0.4.1->explainerdashboard) (0.8.3)\n",
            "Requirement already satisfied: wcwidth in /usr/local/lib/python3.9/dist-packages (from prompt-toolkit<2.1.0,>=2.0.0->ipython->jupyter-dash>=0.4.1->explainerdashboard) (0.2.6)\n",
            "Requirement already satisfied: pyzmq>=13 in /usr/local/lib/python3.9/dist-packages (from jupyter-client->ipykernel->jupyter-dash>=0.4.1->explainerdashboard) (23.2.1)\n",
            "Requirement already satisfied: jupyter-core>=4.6.0 in /usr/local/lib/python3.9/dist-packages (from jupyter-client->ipykernel->jupyter-dash>=0.4.1->explainerdashboard) (5.3.0)\n",
            "Requirement already satisfied: ptyprocess>=0.5 in /usr/local/lib/python3.9/dist-packages (from pexpect->ipython->jupyter-dash>=0.4.1->explainerdashboard) (0.7.0)\n",
            "Requirement already satisfied: platformdirs>=2.5 in /usr/local/lib/python3.9/dist-packages (from jupyter-core>=4.6.0->jupyter-client->ipykernel->jupyter-dash>=0.4.1->explainerdashboard) (3.1.1)\n"
          ]
        }
      ]
    },
    {
      "cell_type": "markdown",
      "source": [
        "To avoid wasting our precious time, I do not perform any extensive EDA. Should\n",
        "you want to play around a little bit with the data set, feel free to do so. Otherwise, I perform only very basic data transformations to feed them to our models."
      ],
      "metadata": {
        "id": "RzKGhoPDjB1m"
      }
    },
    {
      "cell_type": "code",
      "source": [
        "# load the data\n",
        "from seaborn import load_dataset\n",
        "data_cls = load_dataset(\"penguins\")\n",
        "data_reg = load_dataset(\"mpg\").drop(['name', 'origin'], axis=1)"
      ],
      "metadata": {
        "id": "Of1BBk29cK57"
      },
      "execution_count": 224,
      "outputs": []
    },
    {
      "cell_type": "code",
      "source": [
        "# train-test split\n",
        "from sklearn.model_selection import train_test_split\n",
        "X_reg_train, X_reg_test, y_reg_train, y_reg_test = train_test_split(data_reg.drop('mpg', axis=1), data_reg[['mpg']])\n",
        "X_cls_train, X_cls_test, y_cls_train, y_cls_test = train_test_split(data_cls.drop('species', axis=1), data_cls[['species']])"
      ],
      "metadata": {
        "id": "sYWlgoGVgILT"
      },
      "execution_count": 271,
      "outputs": []
    },
    {
      "cell_type": "code",
      "source": [
        "# the very basic data transformations\n",
        "import pandas as pd\n",
        "from sklearn.pipeline import Pipeline\n",
        "from sklearn.preprocessing import StandardScaler, OneHotEncoder\n",
        "from sklearn.impute import SimpleImputer\n",
        "from sklearn.compose import ColumnTransformer\n",
        "\n",
        "def transformation_pipeline(data: pd.DataFrame) -> pd.DataFrame:\n",
        "  \"\"\"\n",
        "  Sklearn-based preprocessing pipeline to be used for both of our data sets\n",
        "  \"\"\"\n",
        "  cat_features = [col for col in data.columns if data[col].dtype == 'object']\n",
        "  num_features = [col for col in data.columns if data[col].dtype != 'object']\n",
        "\n",
        "  numeric_transformer = Pipeline(\n",
        "      steps=[('imputer', SimpleImputer(strategy='median')),\n",
        "            ('scaler', StandardScaler())\n",
        "  ])\n",
        "  categorical_transformer = Pipeline(\n",
        "      steps=[\n",
        "          ('imputer', SimpleImputer(strategy='median')),\n",
        "          ('encoder', OneHotEncoder())]\n",
        "  )\n",
        "  preprocessor = ColumnTransformer(\n",
        "      transformers=[\n",
        "          ('numeric', numeric_transformer, num_features),\n",
        "          ('categorical', categorical_transformer, cat_features)\n",
        "      ]\n",
        "  )\n",
        "  return pd.DataFrame(preprocessor.fit_transform(data), \n",
        "                      columns=preprocessor.get_feature_names_out())"
      ],
      "metadata": {
        "id": "pmcEBtllgk0M"
      },
      "execution_count": 318,
      "outputs": []
    },
    {
      "cell_type": "code",
      "source": [
        "from typing import Any\n",
        "from explainerdashboard import (ClassifierExplainer, RegressionExplainer,\n",
        "                                ExplainerDashboard)\n",
        "from sklearn.ensemble import RandomForestClassifier, RandomForestRegressor\n",
        "\n",
        "def run_explainer_dashboard(task: str, data: pd.DataFrame, \n",
        "                            target_var: str, model: Any, \n",
        "                            port=8050, mode='inline') -> None:\n",
        "  \n",
        "  X_train, X_test, y_train, y_test = train_test_split(\n",
        "      data.drop(target_var, axis=1), data[[target_var]])\n",
        "  \n",
        "  X_train = transformation_pipeline(X_train)\n",
        "  X_test = transformation_pipeline(X_test)\n",
        "  y_train = transformation_pipeline(y_train)\n",
        "  y_test = transformation_pipeline(y_test)\n",
        " \n",
        "  if task=='classification':\n",
        "    explainer = ClassifierExplainer(model.fit(X_train, y_train), X_test, y_test)\n",
        "  else:\n",
        "    explainer = RegressionExplainer(model.fit(X_train, y_train), X_test, y_test)\n",
        "\n",
        "\n",
        "  ExplainerDashboard(explainer, mode=mode).run(port=port)\n",
        "  print(\"Explainer dashboard running!\")"
      ],
      "metadata": {
        "id": "X-Bv0wg9vuFR"
      },
      "execution_count": 319,
      "outputs": []
    },
    {
      "cell_type": "code",
      "source": [
        "run_explainer_dashboard('regression', data_reg, 'mpg', RandomForestRegressor())"
      ],
      "metadata": {
        "id": "hwxQGlMbzFUo",
        "outputId": "913f334d-7383-40bb-f598-f79c045b83c3",
        "colab": {
          "base_uri": "https://localhost:8080/",
          "height": 1000
        }
      },
      "execution_count": 320,
      "outputs": [
        {
          "output_type": "stream",
          "name": "stderr",
          "text": [
            "<ipython-input-319-94e2784d3a78>:21: DataConversionWarning:\n",
            "\n",
            "A column-vector y was passed when a 1d array was expected. Please change the shape of y to (n_samples,), for example using ravel().\n",
            "\n"
          ]
        },
        {
          "output_type": "stream",
          "name": "stdout",
          "text": [
            "Changing class type to RandomForestRegressionExplainer...\n",
            "Generating self.shap_explainer = shap.TreeExplainer(model)\n",
            "Building ExplainerDashboard..\n",
            "Warning: calculating shap interaction values can be slow! Pass shap_interaction=False to remove interactions tab.\n",
            "Generating layout...\n",
            "Calculating shap values...\n",
            "Calculating predictions...\n",
            "Calculating residuals...\n",
            "Calculating absolute residuals...\n",
            "Calculating shap interaction values...\n",
            "Reminder: TreeShap computational complexity is O(TLD^2), where T is the number of trees, L is the maximum number of leaves in any tree and D the maximal depth of any tree. So reducing these will speed up the calculation.\n",
            "Calculating dependencies...\n",
            "Calculating importances...\n",
            "Calculating ShadowDecTree for each individual decision tree...\n",
            "Reminder: you can store the explainer (including calculated dependencies) with explainer.dump('explainer.joblib') and reload with e.g. ClassifierExplainer.from_file('explainer.joblib')\n",
            "Registering callbacks...\n",
            "Starting ExplainerDashboard inline (terminate it with ExplainerDashboard.terminate(8050))\n",
            "Dash is running on http://127.0.0.1:8050/\n",
            "\n"
          ]
        },
        {
          "output_type": "stream",
          "name": "stderr",
          "text": [
            "INFO:dash.dash:Dash is running on http://127.0.0.1:8050/\n",
            "\n"
          ]
        },
        {
          "output_type": "display_data",
          "data": {
            "text/plain": [
              "<IPython.core.display.Javascript object>"
            ],
            "application/javascript": [
              "(async (port, path, width, height, cache, element) => {\n",
              "    if (!google.colab.kernel.accessAllowed && !cache) {\n",
              "      return;\n",
              "    }\n",
              "    element.appendChild(document.createTextNode(''));\n",
              "    const url = await google.colab.kernel.proxyPort(port, {cache});\n",
              "    const iframe = document.createElement('iframe');\n",
              "    iframe.src = new URL(path, url).toString();\n",
              "    iframe.height = height;\n",
              "    iframe.width = width;\n",
              "    iframe.style.border = 0;\n",
              "    iframe.allow = [\n",
              "        'accelerometer',\n",
              "        'autoplay',\n",
              "        'camera',\n",
              "        'clipboard-read',\n",
              "        'clipboard-write',\n",
              "        'gyroscope',\n",
              "        'magnetometer',\n",
              "        'microphone',\n",
              "        'serial',\n",
              "        'usb',\n",
              "        'xr-spatial-tracking',\n",
              "    ].join('; ');\n",
              "    element.appendChild(iframe);\n",
              "  })(8050, \"/\", 1000, 800, false, window.element)"
            ]
          },
          "metadata": {}
        },
        {
          "output_type": "stream",
          "name": "stdout",
          "text": [
            "Explainer dashboard running!\n"
          ]
        }
      ]
    },
    {
      "cell_type": "code",
      "source": [
        "from explainerdashboard.datasets import titanic_embarked, feature_descriptions\n",
        "\n",
        "X_train, y_train, X_test, y_test = titanic_embarked()\n",
        "model = RandomForestClassifier(n_estimators=50, max_depth=10).fit(X_train, y_train)\n",
        "\n",
        "explainer = ClassifierExplainer(model, X_test, y_test, \n",
        "                                cats=['Sex', 'Deck'], \n",
        "                                descriptions=feature_descriptions,\n",
        "                                labels=['Queenstown', 'Southampton', 'Cherbourg'])\n",
        "\n",
        "ExplainerDashboard(explainer, mode='inline').run(port=8049)"
      ],
      "metadata": {
        "id": "bubIBcSqr9wp",
        "outputId": "5595f7be-1d86-41ca-d3c5-31df941db5d2",
        "colab": {
          "base_uri": "https://localhost:8080/",
          "height": 1000
        }
      },
      "execution_count": 313,
      "outputs": [
        {
          "output_type": "stream",
          "name": "stdout",
          "text": [
            "Detected RandomForestClassifier model: Changing class type to RandomForestClassifierExplainer...\n",
            "Note: model_output=='probability', so assuming that raw shap output of RandomForestClassifier is in probability space...\n",
            "Generating self.shap_explainer = shap.TreeExplainer(model)\n",
            "Building ExplainerDashboard..\n",
            "Warning: calculating shap interaction values can be slow! Pass shap_interaction=False to remove interactions tab.\n",
            "Generating layout...\n",
            "Calculating shap values...\n",
            "Calculating prediction probabilities...\n",
            "Calculating metrics...\n",
            "Calculating confusion matrices...\n",
            "Calculating classification_dfs...\n",
            "Calculating roc auc curves...\n",
            "Calculating pr auc curves...\n",
            "Calculating liftcurve_dfs...\n",
            "Calculating shap interaction values... (this may take a while)\n",
            "Reminder: TreeShap computational complexity is O(TLD^2), where T is the number of trees, L is the maximum number of leaves in any tree and D the maximal depth of any tree. So reducing these will speed up the calculation.\n",
            "Calculating dependencies...\n",
            "Calculating permutation importances (if slow, try setting n_jobs parameter)...\n",
            "Calculating pred_percentiles...\n",
            "Calculating predictions...\n",
            "Calculating ShadowDecTree for each individual decision tree...\n",
            "Reminder: you can store the explainer (including calculated dependencies) with explainer.dump('explainer.joblib') and reload with e.g. ClassifierExplainer.from_file('explainer.joblib')\n",
            "Registering callbacks...\n",
            "Starting ExplainerDashboard inline (terminate it with ExplainerDashboard.terminate(8049))\n",
            "Dash is running on http://127.0.0.1:8049/\n",
            "\n"
          ]
        },
        {
          "output_type": "stream",
          "name": "stderr",
          "text": [
            "INFO:dash.dash:Dash is running on http://127.0.0.1:8049/\n",
            "\n"
          ]
        },
        {
          "output_type": "display_data",
          "data": {
            "text/plain": [
              "<IPython.core.display.Javascript object>"
            ],
            "application/javascript": [
              "(async (port, path, width, height, cache, element) => {\n",
              "    if (!google.colab.kernel.accessAllowed && !cache) {\n",
              "      return;\n",
              "    }\n",
              "    element.appendChild(document.createTextNode(''));\n",
              "    const url = await google.colab.kernel.proxyPort(port, {cache});\n",
              "    const iframe = document.createElement('iframe');\n",
              "    iframe.src = new URL(path, url).toString();\n",
              "    iframe.height = height;\n",
              "    iframe.width = width;\n",
              "    iframe.style.border = 0;\n",
              "    iframe.allow = [\n",
              "        'accelerometer',\n",
              "        'autoplay',\n",
              "        'camera',\n",
              "        'clipboard-read',\n",
              "        'clipboard-write',\n",
              "        'gyroscope',\n",
              "        'magnetometer',\n",
              "        'microphone',\n",
              "        'serial',\n",
              "        'usb',\n",
              "        'xr-spatial-tracking',\n",
              "    ].join('; ');\n",
              "    element.appendChild(iframe);\n",
              "  })(8049, \"/\", 1000, 800, false, window.element)"
            ]
          },
          "metadata": {}
        }
      ]
    },
    {
      "cell_type": "markdown",
      "source": [
        "Unfortunately, the dashboard output doesn't work 100%. To see the full output, please visit the [following page](http://titanicexplainer.herokuapp.com/multiclass/)"
      ],
      "metadata": {
        "id": "xDG31sUXyxz1"
      }
    }
  ]
}