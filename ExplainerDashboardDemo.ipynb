{
  "nbformat": 4,
  "nbformat_minor": 0,
  "metadata": {
    "colab": {
      "provenance": [],
      "authorship_tag": "ABX9TyOvxJ5Nrn1paFLg+dX4v+jS",
      "include_colab_link": true
    },
    "kernelspec": {
      "name": "python3",
      "display_name": "Python 3"
    },
    "language_info": {
      "name": "python"
    }
  },
  "cells": [
    {
      "cell_type": "markdown",
      "metadata": {
        "id": "view-in-github",
        "colab_type": "text"
      },
      "source": [
        "<a href=\"https://colab.research.google.com/github/VondracekS/ExplainabilityExchange/blob/master/ExplainerDashboardDemo.ipynb\" target=\"_parent\"><img src=\"https://colab.research.google.com/assets/colab-badge.svg\" alt=\"Open In Colab\"/></a>"
      ]
    },
    {
      "cell_type": "markdown",
      "source": [
        "# Explainer Dashboard Demo - penguin dataset"
      ],
      "metadata": {
        "id": "WLGGl0z7bRla"
      }
    },
    {
      "cell_type": "code",
      "source": [
        "pip install explainerdashboard"
      ],
      "metadata": {
        "colab": {
          "base_uri": "https://localhost:8080/"
        },
        "id": "iQEVAxhsbk_a",
        "outputId": "5c880b49-0d64-455f-d9d7-94345588def5"
      },
      "execution_count": 1,
      "outputs": [
        {
          "output_type": "stream",
          "name": "stdout",
          "text": [
            "Looking in indexes: https://pypi.org/simple, https://us-python.pkg.dev/colab-wheels/public/simple/\n",
            "Collecting explainerdashboard\n",
            "  Downloading explainerdashboard-0.4.2.1-py3-none-any.whl (286 kB)\n",
            "\u001b[2K     \u001b[90m━━━━━━━━━━━━━━━━━━━━━━━━━━━━━━━━━━━━━━━\u001b[0m \u001b[32m286.9/286.9 KB\u001b[0m \u001b[31m3.3 MB/s\u001b[0m eta \u001b[36m0:00:00\u001b[0m\n",
            "\u001b[?25hCollecting dash-auth\n",
            "  Downloading dash_auth-2.0.0-py3-none-any.whl (3.4 kB)\n",
            "Requirement already satisfied: pandas>=1.1 in /usr/local/lib/python3.9/dist-packages (from explainerdashboard) (1.4.4)\n",
            "Collecting waitress\n",
            "  Downloading waitress-2.1.2-py3-none-any.whl (57 kB)\n",
            "\u001b[2K     \u001b[90m━━━━━━━━━━━━━━━━━━━━━━━━━━━━━━━━━━━━━━━━\u001b[0m \u001b[32m57.7/57.7 KB\u001b[0m \u001b[31m2.5 MB/s\u001b[0m eta \u001b[36m0:00:00\u001b[0m\n",
            "\u001b[?25hRequirement already satisfied: graphviz>=0.18.2 in /usr/local/lib/python3.9/dist-packages (from explainerdashboard) (0.20.1)\n",
            "Collecting jupyter-dash>=0.4.1\n",
            "  Downloading jupyter_dash-0.4.2-py3-none-any.whl (23 kB)\n",
            "Collecting dash>=2.3.1\n",
            "  Downloading dash-2.9.1-py3-none-any.whl (10.2 MB)\n",
            "\u001b[2K     \u001b[90m━━━━━━━━━━━━━━━━━━━━━━━━━━━━━━━━━━━━━━━━\u001b[0m \u001b[32m10.2/10.2 MB\u001b[0m \u001b[31m45.8 MB/s\u001b[0m eta \u001b[36m0:00:00\u001b[0m\n",
            "\u001b[?25hCollecting dash-bootstrap-components>=1\n",
            "  Downloading dash_bootstrap_components-1.4.1-py3-none-any.whl (220 kB)\n",
            "\u001b[2K     \u001b[90m━━━━━━━━━━━━━━━━━━━━━━━━━━━━━━━━━━━━━━\u001b[0m \u001b[32m220.6/220.6 KB\u001b[0m \u001b[31m11.0 MB/s\u001b[0m eta \u001b[36m0:00:00\u001b[0m\n",
            "\u001b[?25hCollecting flask-simplelogin\n",
            "  Downloading flask_simplelogin-0.1.1-py3-none-any.whl (7.2 kB)\n",
            "Collecting shap>=0.37\n",
            "  Downloading shap-0.41.0-cp39-cp39-manylinux_2_12_x86_64.manylinux2010_x86_64.whl (572 kB)\n",
            "\u001b[2K     \u001b[90m━━━━━━━━━━━━━━━━━━━━━━━━━━━━━━━━━━━━━━\u001b[0m \u001b[32m572.4/572.4 KB\u001b[0m \u001b[31m21.2 MB/s\u001b[0m eta \u001b[36m0:00:00\u001b[0m\n",
            "\u001b[?25hRequirement already satisfied: scikit-learn>=1.1 in /usr/local/lib/python3.9/dist-packages (from explainerdashboard) (1.2.2)\n",
            "Requirement already satisfied: numpy in /usr/local/lib/python3.9/dist-packages (from explainerdashboard) (1.22.4)\n",
            "Requirement already satisfied: joblib in /usr/local/lib/python3.9/dist-packages (from explainerdashboard) (1.1.1)\n",
            "Collecting oyaml\n",
            "  Downloading oyaml-1.0-py2.py3-none-any.whl (3.0 kB)\n",
            "Requirement already satisfied: click in /usr/local/lib/python3.9/dist-packages (from explainerdashboard) (8.1.3)\n",
            "Collecting dtreeviz>=2.1\n",
            "  Downloading dtreeviz-2.2.0-py3-none-any.whl (90 kB)\n",
            "\u001b[2K     \u001b[90m━━━━━━━━━━━━━━━━━━━━━━━━━━━━━━━━━━━━━━━━\u001b[0m \u001b[32m90.5/90.5 KB\u001b[0m \u001b[31m6.4 MB/s\u001b[0m eta \u001b[36m0:00:00\u001b[0m\n",
            "\u001b[?25hCollecting dash-html-components==2.0.0\n",
            "  Downloading dash_html_components-2.0.0-py3-none-any.whl (4.1 kB)\n",
            "Collecting dash-core-components==2.0.0\n",
            "  Downloading dash_core_components-2.0.0-py3-none-any.whl (3.8 kB)\n",
            "Requirement already satisfied: plotly>=5.0.0 in /usr/local/lib/python3.9/dist-packages (from dash>=2.3.1->explainerdashboard) (5.13.1)\n",
            "Collecting dash-table==5.0.0\n",
            "  Downloading dash_table-5.0.0-py3-none-any.whl (3.9 kB)\n",
            "Requirement already satisfied: Flask>=1.0.4 in /usr/local/lib/python3.9/dist-packages (from dash>=2.3.1->explainerdashboard) (2.2.3)\n",
            "Requirement already satisfied: pytest in /usr/local/lib/python3.9/dist-packages (from dtreeviz>=2.1->explainerdashboard) (7.2.2)\n",
            "Collecting colour\n",
            "  Downloading colour-0.1.5-py2.py3-none-any.whl (23 kB)\n",
            "Requirement already satisfied: matplotlib in /usr/local/lib/python3.9/dist-packages (from dtreeviz>=2.1->explainerdashboard) (3.7.1)\n",
            "Collecting retrying\n",
            "  Downloading retrying-1.3.4-py3-none-any.whl (11 kB)\n",
            "Requirement already satisfied: ipykernel in /usr/local/lib/python3.9/dist-packages (from jupyter-dash>=0.4.1->explainerdashboard) (5.3.4)\n",
            "Requirement already satisfied: ipython in /usr/local/lib/python3.9/dist-packages (from jupyter-dash>=0.4.1->explainerdashboard) (7.9.0)\n",
            "Requirement already satisfied: nest-asyncio in /usr/local/lib/python3.9/dist-packages (from jupyter-dash>=0.4.1->explainerdashboard) (1.5.6)\n",
            "Collecting ansi2html\n",
            "  Downloading ansi2html-1.8.0-py3-none-any.whl (16 kB)\n",
            "Requirement already satisfied: requests in /usr/local/lib/python3.9/dist-packages (from jupyter-dash>=0.4.1->explainerdashboard) (2.27.1)\n",
            "Requirement already satisfied: python-dateutil>=2.8.1 in /usr/local/lib/python3.9/dist-packages (from pandas>=1.1->explainerdashboard) (2.8.2)\n",
            "Requirement already satisfied: pytz>=2020.1 in /usr/local/lib/python3.9/dist-packages (from pandas>=1.1->explainerdashboard) (2022.7.1)\n",
            "Requirement already satisfied: threadpoolctl>=2.0.0 in /usr/local/lib/python3.9/dist-packages (from scikit-learn>=1.1->explainerdashboard) (3.1.0)\n",
            "Requirement already satisfied: scipy>=1.3.2 in /usr/local/lib/python3.9/dist-packages (from scikit-learn>=1.1->explainerdashboard) (1.10.1)\n",
            "Requirement already satisfied: tqdm>4.25.0 in /usr/local/lib/python3.9/dist-packages (from shap>=0.37->explainerdashboard) (4.65.0)\n",
            "Collecting slicer==0.0.7\n",
            "  Downloading slicer-0.0.7-py3-none-any.whl (14 kB)\n",
            "Requirement already satisfied: packaging>20.9 in /usr/local/lib/python3.9/dist-packages (from shap>=0.37->explainerdashboard) (23.0)\n",
            "Requirement already satisfied: numba in /usr/local/lib/python3.9/dist-packages (from shap>=0.37->explainerdashboard) (0.56.4)\n",
            "Requirement already satisfied: cloudpickle in /usr/local/lib/python3.9/dist-packages (from shap>=0.37->explainerdashboard) (2.2.1)\n",
            "Collecting WTForms>=2.1\n",
            "  Downloading WTForms-3.0.1-py3-none-any.whl (136 kB)\n",
            "\u001b[2K     \u001b[90m━━━━━━━━━━━━━━━━━━━━━━━━━━━━━━━━━━━━━━━\u001b[0m \u001b[32m136.5/136.5 KB\u001b[0m \u001b[31m3.8 MB/s\u001b[0m eta \u001b[36m0:00:00\u001b[0m\n",
            "\u001b[?25hCollecting Flask-WTF<0.16.0,>=0.15.1\n",
            "  Downloading Flask_WTF-0.15.1-py2.py3-none-any.whl (13 kB)\n",
            "Requirement already satisfied: pyyaml in /usr/local/lib/python3.9/dist-packages (from oyaml->explainerdashboard) (6.0)\n",
            "Requirement already satisfied: importlib-metadata>=3.6.0 in /usr/local/lib/python3.9/dist-packages (from Flask>=1.0.4->dash>=2.3.1->explainerdashboard) (6.1.0)\n",
            "Requirement already satisfied: Jinja2>=3.0 in /usr/local/lib/python3.9/dist-packages (from Flask>=1.0.4->dash>=2.3.1->explainerdashboard) (3.1.2)\n",
            "Requirement already satisfied: Werkzeug>=2.2.2 in /usr/local/lib/python3.9/dist-packages (from Flask>=1.0.4->dash>=2.3.1->explainerdashboard) (2.2.3)\n",
            "Requirement already satisfied: itsdangerous>=2.0 in /usr/local/lib/python3.9/dist-packages (from Flask>=1.0.4->dash>=2.3.1->explainerdashboard) (2.1.2)\n",
            "Requirement already satisfied: tenacity>=6.2.0 in /usr/local/lib/python3.9/dist-packages (from plotly>=5.0.0->dash>=2.3.1->explainerdashboard) (8.2.2)\n",
            "Requirement already satisfied: six>=1.5 in /usr/local/lib/python3.9/dist-packages (from python-dateutil>=2.8.1->pandas>=1.1->explainerdashboard) (1.16.0)\n",
            "Requirement already satisfied: MarkupSafe in /usr/local/lib/python3.9/dist-packages (from WTForms>=2.1->flask-simplelogin->explainerdashboard) (2.1.2)\n",
            "Requirement already satisfied: jupyter-client in /usr/local/lib/python3.9/dist-packages (from ipykernel->jupyter-dash>=0.4.1->explainerdashboard) (6.1.12)\n",
            "Requirement already satisfied: traitlets>=4.1.0 in /usr/local/lib/python3.9/dist-packages (from ipykernel->jupyter-dash>=0.4.1->explainerdashboard) (5.7.1)\n",
            "Requirement already satisfied: tornado>=4.2 in /usr/local/lib/python3.9/dist-packages (from ipykernel->jupyter-dash>=0.4.1->explainerdashboard) (6.2)\n",
            "Requirement already satisfied: pickleshare in /usr/local/lib/python3.9/dist-packages (from ipython->jupyter-dash>=0.4.1->explainerdashboard) (0.7.5)\n",
            "Requirement already satisfied: backcall in /usr/local/lib/python3.9/dist-packages (from ipython->jupyter-dash>=0.4.1->explainerdashboard) (0.2.0)\n",
            "Requirement already satisfied: pygments in /usr/local/lib/python3.9/dist-packages (from ipython->jupyter-dash>=0.4.1->explainerdashboard) (2.14.0)\n",
            "Requirement already satisfied: prompt-toolkit<2.1.0,>=2.0.0 in /usr/local/lib/python3.9/dist-packages (from ipython->jupyter-dash>=0.4.1->explainerdashboard) (2.0.10)\n",
            "Requirement already satisfied: setuptools>=18.5 in /usr/local/lib/python3.9/dist-packages (from ipython->jupyter-dash>=0.4.1->explainerdashboard) (67.6.0)\n",
            "Collecting jedi>=0.10\n",
            "  Downloading jedi-0.18.2-py2.py3-none-any.whl (1.6 MB)\n",
            "\u001b[2K     \u001b[90m━━━━━━━━━━━━━━━━━━━━━━━━━━━━━━━━━━━━━━━━\u001b[0m \u001b[32m1.6/1.6 MB\u001b[0m \u001b[31m44.9 MB/s\u001b[0m eta \u001b[36m0:00:00\u001b[0m\n",
            "\u001b[?25hRequirement already satisfied: pexpect in /usr/local/lib/python3.9/dist-packages (from ipython->jupyter-dash>=0.4.1->explainerdashboard) (4.8.0)\n",
            "Requirement already satisfied: decorator in /usr/local/lib/python3.9/dist-packages (from ipython->jupyter-dash>=0.4.1->explainerdashboard) (4.4.2)\n",
            "Requirement already satisfied: pillow>=6.2.0 in /usr/local/lib/python3.9/dist-packages (from matplotlib->dtreeviz>=2.1->explainerdashboard) (8.4.0)\n",
            "Requirement already satisfied: contourpy>=1.0.1 in /usr/local/lib/python3.9/dist-packages (from matplotlib->dtreeviz>=2.1->explainerdashboard) (1.0.7)\n",
            "Requirement already satisfied: pyparsing>=2.3.1 in /usr/local/lib/python3.9/dist-packages (from matplotlib->dtreeviz>=2.1->explainerdashboard) (3.0.9)\n",
            "Requirement already satisfied: fonttools>=4.22.0 in /usr/local/lib/python3.9/dist-packages (from matplotlib->dtreeviz>=2.1->explainerdashboard) (4.39.2)\n",
            "Requirement already satisfied: kiwisolver>=1.0.1 in /usr/local/lib/python3.9/dist-packages (from matplotlib->dtreeviz>=2.1->explainerdashboard) (1.4.4)\n",
            "Requirement already satisfied: cycler>=0.10 in /usr/local/lib/python3.9/dist-packages (from matplotlib->dtreeviz>=2.1->explainerdashboard) (0.11.0)\n",
            "Requirement already satisfied: importlib-resources>=3.2.0 in /usr/local/lib/python3.9/dist-packages (from matplotlib->dtreeviz>=2.1->explainerdashboard) (5.12.0)\n",
            "Requirement already satisfied: llvmlite<0.40,>=0.39.0dev0 in /usr/local/lib/python3.9/dist-packages (from numba->shap>=0.37->explainerdashboard) (0.39.1)\n",
            "Requirement already satisfied: tomli>=1.0.0 in /usr/local/lib/python3.9/dist-packages (from pytest->dtreeviz>=2.1->explainerdashboard) (2.0.1)\n",
            "Requirement already satisfied: iniconfig in /usr/local/lib/python3.9/dist-packages (from pytest->dtreeviz>=2.1->explainerdashboard) (2.0.0)\n",
            "Requirement already satisfied: attrs>=19.2.0 in /usr/local/lib/python3.9/dist-packages (from pytest->dtreeviz>=2.1->explainerdashboard) (22.2.0)\n",
            "Requirement already satisfied: pluggy<2.0,>=0.12 in /usr/local/lib/python3.9/dist-packages (from pytest->dtreeviz>=2.1->explainerdashboard) (1.0.0)\n",
            "Requirement already satisfied: exceptiongroup>=1.0.0rc8 in /usr/local/lib/python3.9/dist-packages (from pytest->dtreeviz>=2.1->explainerdashboard) (1.1.1)\n",
            "Requirement already satisfied: urllib3<1.27,>=1.21.1 in /usr/local/lib/python3.9/dist-packages (from requests->jupyter-dash>=0.4.1->explainerdashboard) (1.26.15)\n",
            "Requirement already satisfied: charset-normalizer~=2.0.0 in /usr/local/lib/python3.9/dist-packages (from requests->jupyter-dash>=0.4.1->explainerdashboard) (2.0.12)\n",
            "Requirement already satisfied: certifi>=2017.4.17 in /usr/local/lib/python3.9/dist-packages (from requests->jupyter-dash>=0.4.1->explainerdashboard) (2022.12.7)\n",
            "Requirement already satisfied: idna<4,>=2.5 in /usr/local/lib/python3.9/dist-packages (from requests->jupyter-dash>=0.4.1->explainerdashboard) (3.4)\n",
            "Requirement already satisfied: zipp>=0.5 in /usr/local/lib/python3.9/dist-packages (from importlib-metadata>=3.6.0->Flask>=1.0.4->dash>=2.3.1->explainerdashboard) (3.15.0)\n",
            "Requirement already satisfied: parso<0.9.0,>=0.8.0 in /usr/local/lib/python3.9/dist-packages (from jedi>=0.10->ipython->jupyter-dash>=0.4.1->explainerdashboard) (0.8.3)\n",
            "Requirement already satisfied: wcwidth in /usr/local/lib/python3.9/dist-packages (from prompt-toolkit<2.1.0,>=2.0.0->ipython->jupyter-dash>=0.4.1->explainerdashboard) (0.2.6)\n",
            "Requirement already satisfied: pyzmq>=13 in /usr/local/lib/python3.9/dist-packages (from jupyter-client->ipykernel->jupyter-dash>=0.4.1->explainerdashboard) (23.2.1)\n",
            "Requirement already satisfied: jupyter-core>=4.6.0 in /usr/local/lib/python3.9/dist-packages (from jupyter-client->ipykernel->jupyter-dash>=0.4.1->explainerdashboard) (5.3.0)\n",
            "Requirement already satisfied: ptyprocess>=0.5 in /usr/local/lib/python3.9/dist-packages (from pexpect->ipython->jupyter-dash>=0.4.1->explainerdashboard) (0.7.0)\n",
            "Requirement already satisfied: platformdirs>=2.5 in /usr/local/lib/python3.9/dist-packages (from jupyter-core>=4.6.0->jupyter-client->ipykernel->jupyter-dash>=0.4.1->explainerdashboard) (3.1.1)\n",
            "Installing collected packages: dash-table, dash-html-components, dash-core-components, colour, WTForms, waitress, slicer, retrying, oyaml, jedi, ansi2html, shap, Flask-WTF, dtreeviz, dash, jupyter-dash, flask-simplelogin, dash-bootstrap-components, dash-auth, explainerdashboard\n",
            "Successfully installed Flask-WTF-0.15.1 WTForms-3.0.1 ansi2html-1.8.0 colour-0.1.5 dash-2.9.1 dash-auth-2.0.0 dash-bootstrap-components-1.4.1 dash-core-components-2.0.0 dash-html-components-2.0.0 dash-table-5.0.0 dtreeviz-2.2.0 explainerdashboard-0.4.2.1 flask-simplelogin-0.1.1 jedi-0.18.2 jupyter-dash-0.4.2 oyaml-1.0 retrying-1.3.4 shap-0.41.0 slicer-0.0.7 waitress-2.1.2\n"
          ]
        }
      ]
    },
    {
      "cell_type": "code",
      "source": [
        "import pandas as pd\n",
        "import plotly.express as px\n",
        "from explainerdashboard import ExplainerDashboard, ClassifierExplainer\n",
        "from seaborn import load_dataset"
      ],
      "metadata": {
        "id": "w-ZjCSdCbaHT"
      },
      "execution_count": 2,
      "outputs": []
    },
    {
      "cell_type": "code",
      "source": [
        "from sklearn.model_selection import train_test_split\n",
        "data = load_dataset(\"penguins\")\n",
        "data_train, data_test = train_test_split(data)"
      ],
      "metadata": {
        "id": "Of1BBk29cK57"
      },
      "execution_count": 3,
      "outputs": []
    },
    {
      "cell_type": "code",
      "source": [
        "for elem in [data_train, data_test]:\n",
        "  print(elem.shape)"
      ],
      "metadata": {
        "colab": {
          "base_uri": "https://localhost:8080/"
        },
        "id": "knCKC_cBgSGO",
        "outputId": "a89ac64c-8076-404f-e24b-6db93128e9ed"
      },
      "execution_count": 4,
      "outputs": [
        {
          "output_type": "stream",
          "name": "stdout",
          "text": [
            "(258, 7)\n",
            "(86, 7)\n"
          ]
        }
      ]
    },
    {
      "cell_type": "code",
      "source": [
        "data_train.dtypes"
      ],
      "metadata": {
        "colab": {
          "base_uri": "https://localhost:8080/"
        },
        "id": "wtQ7Vok5cPfJ",
        "outputId": "648018e9-d7f6-4259-bfa0-3a6b1c279ec1"
      },
      "execution_count": 5,
      "outputs": [
        {
          "output_type": "execute_result",
          "data": {
            "text/plain": [
              "species               object\n",
              "island                object\n",
              "bill_length_mm       float64\n",
              "bill_depth_mm        float64\n",
              "flipper_length_mm    float64\n",
              "body_mass_g          float64\n",
              "sex                   object\n",
              "dtype: object"
            ]
          },
          "metadata": {},
          "execution_count": 5
        }
      ]
    },
    {
      "cell_type": "code",
      "source": [
        "fig = px.scatter_matrix(data_train, color='species', template='ggplot2')\n",
        "fig.update_layout(autosize=False, width=1500, height=1000, title = \"Penguins Scatter Matrix plot\")"
      ],
      "metadata": {
        "colab": {
          "base_uri": "https://localhost:8080/",
          "height": 1000
        },
        "id": "sqBhL5NQcXVb",
        "outputId": "57c8417b-8f8f-4c5a-9e4f-b2060a710d69"
      },
      "execution_count": 6,
      "outputs": [
        {
          "output_type": "display_data",
          "data": {
            "text/html": [
              "<html>\n",
              "<head><meta charset=\"utf-8\" /></head>\n",
              "<body>\n",
              "    <div>            <script src=\"https://cdnjs.cloudflare.com/ajax/libs/mathjax/2.7.5/MathJax.js?config=TeX-AMS-MML_SVG\"></script><script type=\"text/javascript\">if (window.MathJax && window.MathJax.Hub && window.MathJax.Hub.Config) {window.MathJax.Hub.Config({SVG: {font: \"STIX-Web\"}});}</script>                <script type=\"text/javascript\">window.PlotlyConfig = {MathJaxConfig: 'local'};</script>\n",
              "        <script src=\"https://cdn.plot.ly/plotly-2.18.2.min.js\"></script>                <div id=\"1c9fcab2-6bfa-4ab4-ac3a-afa49f6fb597\" class=\"plotly-graph-div\" style=\"height:1000px; width:1500px;\"></div>            <script type=\"text/javascript\">                                    window.PLOTLYENV=window.PLOTLYENV || {};                                    if (document.getElementById(\"1c9fcab2-6bfa-4ab4-ac3a-afa49f6fb597\")) {                    Plotly.newPlot(                        \"1c9fcab2-6bfa-4ab4-ac3a-afa49f6fb597\",                        [{\"dimensions\":[{\"axis\":{\"matches\":true},\"label\":\"species\",\"values\":[\"Gentoo\",\"Gentoo\",\"Gentoo\",\"Gentoo\",\"Gentoo\",\"Gentoo\",\"Gentoo\",\"Gentoo\",\"Gentoo\",\"Gentoo\",\"Gentoo\",\"Gentoo\",\"Gentoo\",\"Gentoo\",\"Gentoo\",\"Gentoo\",\"Gentoo\",\"Gentoo\",\"Gentoo\",\"Gentoo\",\"Gentoo\",\"Gentoo\",\"Gentoo\",\"Gentoo\",\"Gentoo\",\"Gentoo\",\"Gentoo\",\"Gentoo\",\"Gentoo\",\"Gentoo\",\"Gentoo\",\"Gentoo\",\"Gentoo\",\"Gentoo\",\"Gentoo\",\"Gentoo\",\"Gentoo\",\"Gentoo\",\"Gentoo\",\"Gentoo\",\"Gentoo\",\"Gentoo\",\"Gentoo\",\"Gentoo\",\"Gentoo\",\"Gentoo\",\"Gentoo\",\"Gentoo\",\"Gentoo\",\"Gentoo\",\"Gentoo\",\"Gentoo\",\"Gentoo\",\"Gentoo\",\"Gentoo\",\"Gentoo\",\"Gentoo\",\"Gentoo\",\"Gentoo\",\"Gentoo\",\"Gentoo\",\"Gentoo\",\"Gentoo\",\"Gentoo\",\"Gentoo\",\"Gentoo\",\"Gentoo\",\"Gentoo\",\"Gentoo\",\"Gentoo\",\"Gentoo\",\"Gentoo\"]},{\"axis\":{\"matches\":true},\"label\":\"island\",\"values\":[\"Dream\",\"Dream\",\"Dream\",\"Dream\",\"Biscoe\",\"Dream\",\"Dream\",\"Dream\",\"Torgersen\",\"Dream\",\"Torgersen\",\"Torgersen\",\"Biscoe\",\"Torgersen\",\"Dream\",\"Dream\",\"Torgersen\",\"Dream\",\"Dream\",\"Torgersen\",\"Biscoe\",\"Torgersen\",\"Dream\",\"Biscoe\",\"Biscoe\",\"Dream\",\"Biscoe\",\"Biscoe\",\"Dream\",\"Torgersen\",\"Biscoe\",\"Biscoe\",\"Biscoe\",\"Dream\",\"Biscoe\",\"Torgersen\",\"Biscoe\",\"Dream\",\"Dream\",\"Dream\",\"Biscoe\",\"Dream\",\"Torgersen\",\"Dream\",\"Dream\",\"Dream\",\"Biscoe\",\"Torgersen\",\"Biscoe\",\"Torgersen\",\"Dream\",\"Dream\",\"Dream\",\"Dream\",\"Dream\",\"Biscoe\",\"Biscoe\",\"Dream\",\"Dream\",\"Biscoe\",\"Dream\",\"Torgersen\",\"Biscoe\",\"Torgersen\",\"Dream\",\"Dream\",\"Biscoe\",\"Biscoe\",\"Torgersen\",\"Dream\",\"Dream\",\"Torgersen\"]},{\"axis\":{\"matches\":true},\"label\":\"bill_length_mm\",\"values\":[52.2,38.1,49.2,54.2,38.2,50.5,39.8,35.6,37.3,39.5,36.2,35.9,41.4,39.2,40.6,38.9,40.6,39.6,52.8,35.1,46.7,41.8,55.8,42.0,37.8,36.3,37.9,37.7,45.5,40.3,42.0,38.2,40.9,38.3,48.4,38.6,38.1,50.3,41.5,45.7,43.3,34.0,35.2,50.2,42.4,41.3,38.8,40.9,46.5,39.5,47.5,36.0,58.0,39.0,46.8,42.8,41.6,49.7,38.1,40.5,33.1,38.5,34.5,34.4,52.7,40.7,46.2,37.7,38.6,46.4,39.5,37.8]},{\"axis\":{\"matches\":true},\"label\":\"bill_depth_mm\",\"values\":[18.8,17.6,18.2,20.8,18.1,19.6,19.1,17.5,20.5,17.8,17.2,16.6,18.6,19.6,17.2,18.8,19.0,18.1,20.0,19.4,15.3,19.4,19.8,19.5,20.0,19.5,18.6,16.0,17.0,18.0,13.5,20.0,13.7,19.2,14.6,21.2,16.5,20.0,18.5,17.3,13.4,17.1,15.9,18.8,17.3,20.3,17.2,16.8,14.5,17.4,16.8,17.8,17.8,18.7,16.5,14.2,18.0,18.6,18.6,17.9,16.1,17.9,18.1,18.4,19.8,17.0,14.5,18.7,17.0,17.8,16.7,17.1]},{\"axis\":{\"matches\":true},\"label\":\"flipper_length_mm\",\"values\":[197.0,187.0,195.0,201.0,185.0,201.0,184.0,191.0,199.0,188.0,187.0,190.0,191.0,195.0,187.0,190.0,199.0,186.0,205.0,193.0,219.0,198.0,207.0,200.0,190.0,190.0,193.0,183.0,196.0,195.0,210.0,190.0,214.0,189.0,213.0,191.0,198.0,197.0,201.0,193.0,209.0,185.0,186.0,202.0,181.0,194.0,180.0,191.0,213.0,186.0,199.0,195.0,181.0,185.0,189.0,209.0,192.0,195.0,190.0,187.0,178.0,190.0,187.0,184.0,197.0,190.0,209.0,180.0,188.0,191.0,178.0,186.0]},{\"axis\":{\"matches\":true},\"label\":\"body_mass_g\",\"values\":[3450.0,3425.0,4400.0,4300.0,3950.0,4050.0,4650.0,3175.0,3775.0,3300.0,3150.0,3050.0,3700.0,4675.0,3475.0,3600.0,4000.0,4450.0,4550.0,4200.0,5200.0,4450.0,4000.0,4050.0,4250.0,3800.0,2925.0,3075.0,3500.0,3250.0,4150.0,3900.0,4650.0,3950.0,5850.0,3800.0,3825.0,3300.0,4000.0,3600.0,4400.0,3400.0,3050.0,3800.0,3600.0,3550.0,3800.0,3700.0,4400.0,3800.0,3900.0,3450.0,3700.0,3650.0,3650.0,4700.0,3950.0,3600.0,3700.0,3200.0,2900.0,3325.0,2900.0,3325.0,3725.0,3725.0,4800.0,3600.0,2900.0,3700.0,3250.0,3300.0]},{\"axis\":{\"matches\":true},\"label\":\"sex\",\"values\":[\"Male\",\"Female\",\"Male\",\"Male\",\"Male\",\"Male\",\"Male\",\"Female\",\"Male\",\"Female\",\"Female\",\"Female\",\"Male\",\"Male\",\"Male\",\"Female\",\"Male\",\"Male\",\"Male\",\"Male\",\"Male\",\"Male\",\"Male\",\"Male\",\"Male\",\"Male\",\"Female\",\"Female\",\"Female\",\"Female\",\"Female\",\"Male\",\"Female\",\"Male\",\"Male\",\"Male\",\"Female\",\"Male\",\"Male\",\"Female\",\"Female\",\"Female\",\"Female\",\"Male\",\"Female\",\"Male\",\"Male\",\"Female\",\"Female\",\"Female\",\"Female\",\"Female\",\"Female\",\"Male\",\"Female\",\"Female\",\"Male\",\"Male\",\"Female\",\"Female\",\"Female\",\"Female\",\"Female\",\"Female\",\"Male\",\"Male\",\"Female\",\"Male\",\"Female\",\"Female\",\"Female\",null]}],\"hovertemplate\":\"species=Gentoo<br>%{xaxis.title.text}=%{x}<br>%{yaxis.title.text}=%{y}<extra></extra>\",\"legendgroup\":\"Gentoo\",\"marker\":{\"color\":\"#F8766D\",\"symbol\":\"circle\"},\"name\":\"Gentoo\",\"showlegend\":true,\"type\":\"splom\"},{\"dimensions\":[{\"axis\":{\"matches\":true},\"label\":\"species\",\"values\":[\"Chinstrap\",\"Chinstrap\",\"Chinstrap\",\"Chinstrap\",\"Chinstrap\",\"Chinstrap\",\"Chinstrap\",\"Chinstrap\",\"Chinstrap\",\"Chinstrap\",\"Chinstrap\",\"Chinstrap\",\"Chinstrap\",\"Chinstrap\",\"Chinstrap\",\"Chinstrap\",\"Chinstrap\",\"Chinstrap\",\"Chinstrap\",\"Chinstrap\",\"Chinstrap\",\"Chinstrap\",\"Chinstrap\",\"Chinstrap\",\"Chinstrap\",\"Chinstrap\",\"Chinstrap\",\"Chinstrap\",\"Chinstrap\",\"Chinstrap\",\"Chinstrap\",\"Chinstrap\",\"Chinstrap\",\"Chinstrap\",\"Chinstrap\",\"Chinstrap\",\"Chinstrap\",\"Chinstrap\",\"Chinstrap\",\"Chinstrap\"]},{\"axis\":{\"matches\":true},\"label\":\"island\",\"values\":[\"Biscoe\",\"Dream\",\"Dream\",\"Dream\",\"Biscoe\",\"Dream\",\"Biscoe\",\"Torgersen\",\"Biscoe\",\"Biscoe\",\"Dream\",\"Biscoe\",\"Dream\",\"Biscoe\",\"Torgersen\",\"Dream\",\"Torgersen\",\"Dream\",\"Torgersen\",\"Dream\",\"Dream\",\"Torgersen\",\"Biscoe\",\"Biscoe\",\"Torgersen\",\"Dream\",\"Dream\",\"Dream\",\"Dream\",\"Torgersen\",\"Dream\",\"Dream\",\"Dream\",\"Torgersen\",\"Dream\",\"Dream\",\"Biscoe\",\"Dream\",\"Dream\",\"Torgersen\"]},{\"axis\":{\"matches\":true},\"label\":\"bill_length_mm\",\"values\":[47.8,50.6,51.3,36.8,50.0,50.0,41.3,34.1,48.2,41.0,37.8,36.5,36.0,42.2,36.7,48.5,39.6,39.6,39.3,36.0,47.0,37.8,42.9,46.5,36.7,42.5,40.2,45.2,40.9,39.1,46.2,39.2,49.0,34.6,42.3,53.5,40.6,42.5,47.6,41.5]},{\"axis\":{\"matches\":true},\"label\":\"bill_depth_mm\",\"values\":[15.0,19.4,19.9,18.5,15.3,19.5,21.1,18.1,14.3,20.0,18.1,16.6,17.1,19.5,18.8,17.5,17.2,18.8,20.6,17.9,17.3,17.3,13.1,13.5,19.3,17.3,20.1,16.6,16.6,18.7,17.5,21.1,19.6,21.1,21.2,19.9,18.8,16.7,18.3,18.3]},{\"axis\":{\"matches\":true},\"label\":\"flipper_length_mm\",\"values\":[215.0,193.0,198.0,193.0,220.0,196.0,195.0,193.0,210.0,203.0,193.0,181.0,187.0,197.0,187.0,191.0,196.0,190.0,190.0,190.0,185.0,180.0,215.0,210.0,193.0,187.0,200.0,191.0,187.0,181.0,187.0,196.0,212.0,198.0,191.0,205.0,193.0,187.0,195.0,195.0]},{\"axis\":{\"matches\":true},\"label\":\"body_mass_g\",\"values\":[5650.0,3800.0,3700.0,3500.0,5550.0,3900.0,4400.0,3475.0,4600.0,4725.0,3750.0,2850.0,3700.0,4275.0,3800.0,3400.0,3550.0,4600.0,3650.0,3450.0,3700.0,3700.0,5000.0,4550.0,3450.0,3350.0,3975.0,3250.0,3200.0,3750.0,3650.0,4150.0,4300.0,4400.0,4150.0,4500.0,3800.0,3350.0,3850.0,4300.0]},{\"axis\":{\"matches\":true},\"label\":\"sex\",\"values\":[\"Male\",\"Male\",\"Male\",\"Female\",\"Male\",\"Male\",\"Male\",null,\"Female\",\"Male\",\"Male\",\"Female\",\"Female\",\"Male\",\"Female\",\"Male\",\"Female\",\"Male\",\"Male\",\"Female\",\"Female\",null,\"Female\",\"Female\",\"Female\",\"Female\",\"Male\",\"Female\",\"Female\",\"Male\",\"Female\",\"Male\",\"Male\",\"Male\",\"Male\",\"Male\",\"Male\",\"Female\",\"Female\",\"Male\"]}],\"hovertemplate\":\"species=Chinstrap<br>%{xaxis.title.text}=%{x}<br>%{yaxis.title.text}=%{y}<extra></extra>\",\"legendgroup\":\"Chinstrap\",\"marker\":{\"color\":\"#A3A500\",\"symbol\":\"circle\"},\"name\":\"Chinstrap\",\"showlegend\":true,\"type\":\"splom\"},{\"dimensions\":[{\"axis\":{\"matches\":true},\"label\":\"species\",\"values\":[\"Adelie\",\"Adelie\",\"Adelie\",\"Adelie\",\"Adelie\",\"Adelie\",\"Adelie\",\"Adelie\",\"Adelie\",\"Adelie\",\"Adelie\",\"Adelie\",\"Adelie\",\"Adelie\",\"Adelie\",\"Adelie\",\"Adelie\",\"Adelie\",\"Adelie\",\"Adelie\",\"Adelie\",\"Adelie\",\"Adelie\",\"Adelie\",\"Adelie\",\"Adelie\",\"Adelie\",\"Adelie\",\"Adelie\",\"Adelie\",\"Adelie\",\"Adelie\",\"Adelie\",\"Adelie\",\"Adelie\",\"Adelie\",\"Adelie\",\"Adelie\",\"Adelie\",\"Adelie\",\"Adelie\",\"Adelie\",\"Adelie\",\"Adelie\",\"Adelie\",\"Adelie\",\"Adelie\",\"Adelie\",\"Adelie\",\"Adelie\",\"Adelie\",\"Adelie\",\"Adelie\",\"Adelie\",\"Adelie\",\"Adelie\",\"Adelie\",\"Adelie\",\"Adelie\",\"Adelie\",\"Adelie\",\"Adelie\",\"Adelie\",\"Adelie\",\"Adelie\",\"Adelie\",\"Adelie\",\"Adelie\",\"Adelie\",\"Adelie\",\"Adelie\",\"Adelie\",\"Adelie\",\"Adelie\",\"Adelie\",\"Adelie\",\"Adelie\",\"Adelie\",\"Adelie\",\"Adelie\",\"Adelie\",\"Adelie\",\"Adelie\",\"Adelie\",\"Adelie\",\"Adelie\",\"Adelie\"]},{\"axis\":{\"matches\":true},\"label\":\"island\",\"values\":[\"Dream\",\"Dream\",\"Torgersen\",\"Biscoe\",\"Biscoe\",\"Biscoe\",\"Dream\",\"Dream\",\"Torgersen\",\"Biscoe\",\"Dream\",\"Torgersen\",\"Dream\",\"Dream\",\"Torgersen\",\"Dream\",\"Biscoe\",\"Dream\",\"Biscoe\",\"Biscoe\",\"Biscoe\",\"Torgersen\",\"Dream\",\"Dream\",\"Biscoe\",\"Dream\",\"Dream\",\"Biscoe\",\"Biscoe\",\"Dream\",\"Dream\",\"Biscoe\",\"Biscoe\",\"Biscoe\",\"Biscoe\",\"Biscoe\",\"Dream\",\"Dream\",\"Biscoe\",\"Biscoe\",\"Biscoe\",\"Dream\",\"Biscoe\",\"Dream\",\"Biscoe\",\"Dream\",\"Dream\",\"Biscoe\",\"Dream\",\"Biscoe\",\"Biscoe\",\"Torgersen\",\"Dream\",\"Dream\",\"Biscoe\",\"Dream\",\"Biscoe\",\"Biscoe\",\"Dream\",\"Dream\",\"Torgersen\",\"Biscoe\",\"Dream\",\"Dream\",\"Torgersen\",\"Torgersen\",\"Biscoe\",\"Dream\",\"Biscoe\",\"Dream\",\"Torgersen\",\"Biscoe\",\"Biscoe\",\"Biscoe\",\"Torgersen\",\"Biscoe\",\"Torgersen\",\"Biscoe\",\"Torgersen\",\"Dream\",\"Torgersen\",\"Torgersen\",\"Biscoe\",\"Dream\",\"Torgersen\",\"Dream\",\"Torgersen\"]},{\"axis\":{\"matches\":true},\"label\":\"bill_length_mm\",\"values\":[37.0,37.6,41.1,45.1,46.8,46.1,44.1,43.2,40.2,35.0,50.2,45.8,46.1,50.9,37.7,49.6,50.0,49.0,42.7,41.1,42.6,42.0,50.7,41.1,36.4,39.7,46.9,44.5,40.5,37.3,36.2,50.2,39.6,46.1,43.2,39.7,50.5,49.3,37.9,48.7,47.6,37.3,49.2,50.8,45.8,48.1,36.9,35.3,45.9,49.1,37.6,42.9,45.7,45.6,40.1,51.3,45.4,59.6,38.8,43.2,null,35.5,50.9,36.4,46.0,42.5,44.4,46.5,41.1,40.3,38.8,39.0,38.1,38.6,34.6,45.5,38.9,39.7,36.6,36.5,38.7,43.1,37.8,51.4,39.7,52.0,33.5]},{\"axis\":{\"matches\":true},\"label\":\"bill_depth_mm\",\"values\":[16.5,19.3,17.6,14.5,15.4,13.2,19.7,18.5,17.0,17.9,18.7,18.9,18.2,17.9,19.8,18.2,16.3,19.5,18.3,19.1,13.7,20.2,19.7,19.0,17.1,17.9,16.6,14.3,18.9,17.8,17.3,14.3,17.7,15.1,19.0,17.7,18.4,19.9,18.6,15.1,14.5,16.8,15.2,19.0,14.6,16.4,18.6,18.9,17.1,14.8,17.0,17.6,17.0,19.4,18.9,19.2,14.6,17.0,20.0,16.6,null,16.2,19.1,17.0,21.5,20.7,17.3,17.9,18.2,18.5,17.6,17.5,17.0,17.2,17.2,13.7,17.8,18.9,17.8,18.0,19.0,19.2,18.3,19.0,18.4,19.0,19.0]},{\"axis\":{\"matches\":true},\"label\":\"flipper_length_mm\",\"values\":[185.0,181.0,182.0,215.0,215.0,211.0,196.0,192.0,176.0,192.0,198.0,197.0,178.0,196.0,198.0,193.0,230.0,210.0,196.0,188.0,213.0,190.0,203.0,182.0,184.0,193.0,192.0,216.0,180.0,191.0,187.0,218.0,186.0,215.0,197.0,193.0,200.0,203.0,172.0,222.0,215.0,192.0,221.0,210.0,210.0,199.0,189.0,187.0,190.0,220.0,185.0,196.0,195.0,194.0,188.0,193.0,211.0,230.0,190.0,187.0,null,195.0,196.0,195.0,194.0,197.0,219.0,192.0,192.0,196.0,191.0,186.0,181.0,199.0,189.0,214.0,181.0,184.0,185.0,182.0,195.0,197.0,174.0,201.0,190.0,197.0,190.0]},{\"axis\":{\"matches\":true},\"label\":\"body_mass_g\",\"values\":[3400.0,3300.0,3200.0,5000.0,5150.0,4500.0,4400.0,4100.0,3450.0,3725.0,3775.0,4150.0,3250.0,3675.0,3500.0,3775.0,5700.0,3950.0,4075.0,4100.0,4950.0,4250.0,4050.0,3425.0,2850.0,4250.0,2700.0,4100.0,3950.0,3350.0,3300.0,5700.0,3500.0,5100.0,4775.0,3200.0,3400.0,4050.0,3150.0,5350.0,5400.0,3000.0,6300.0,4100.0,4200.0,3325.0,3500.0,3800.0,3575.0,5150.0,3600.0,4700.0,3650.0,3525.0,4300.0,3650.0,4800.0,6050.0,3950.0,2900.0,null,3350.0,3550.0,3325.0,4200.0,4500.0,5250.0,3500.0,4050.0,4350.0,3275.0,3550.0,3175.0,3750.0,3200.0,4650.0,3625.0,3550.0,3700.0,3150.0,3450.0,3500.0,3400.0,3950.0,3900.0,4150.0,3600.0]},{\"axis\":{\"matches\":true},\"label\":\"sex\",\"values\":[\"Female\",\"Female\",\"Female\",\"Female\",\"Male\",\"Female\",\"Male\",\"Male\",\"Female\",\"Female\",\"Female\",\"Male\",\"Female\",\"Female\",\"Male\",\"Male\",\"Male\",\"Male\",\"Male\",\"Male\",\"Female\",null,\"Male\",\"Male\",\"Female\",\"Male\",\"Female\",null,\"Male\",\"Female\",\"Female\",\"Male\",\"Female\",\"Male\",\"Male\",\"Female\",\"Female\",\"Male\",\"Female\",\"Male\",\"Male\",\"Female\",\"Male\",\"Male\",\"Female\",\"Female\",\"Female\",\"Female\",\"Female\",\"Female\",\"Female\",\"Male\",\"Female\",\"Female\",\"Male\",\"Male\",\"Female\",\"Male\",\"Male\",\"Female\",null,\"Female\",\"Male\",\"Female\",\"Male\",\"Male\",\"Male\",\"Female\",\"Male\",\"Male\",\"Female\",\"Female\",\"Female\",\"Female\",\"Female\",\"Female\",\"Female\",\"Male\",\"Female\",\"Female\",\"Female\",\"Male\",\"Female\",\"Male\",\"Male\",\"Male\",\"Female\"]}],\"hovertemplate\":\"species=Adelie<br>%{xaxis.title.text}=%{x}<br>%{yaxis.title.text}=%{y}<extra></extra>\",\"legendgroup\":\"Adelie\",\"marker\":{\"color\":\"#00B0F6\",\"symbol\":\"circle\"},\"name\":\"Adelie\",\"showlegend\":true,\"type\":\"splom\"}],                        {\"template\":{\"data\":{\"barpolar\":[{\"marker\":{\"line\":{\"color\":\"rgb(237,237,237)\",\"width\":0.5},\"pattern\":{\"fillmode\":\"overlay\",\"size\":10,\"solidity\":0.2}},\"type\":\"barpolar\"}],\"bar\":[{\"error_x\":{\"color\":\"rgb(51,51,51)\"},\"error_y\":{\"color\":\"rgb(51,51,51)\"},\"marker\":{\"line\":{\"color\":\"rgb(237,237,237)\",\"width\":0.5},\"pattern\":{\"fillmode\":\"overlay\",\"size\":10,\"solidity\":0.2}},\"type\":\"bar\"}],\"carpet\":[{\"aaxis\":{\"endlinecolor\":\"rgb(51,51,51)\",\"gridcolor\":\"white\",\"linecolor\":\"white\",\"minorgridcolor\":\"white\",\"startlinecolor\":\"rgb(51,51,51)\"},\"baxis\":{\"endlinecolor\":\"rgb(51,51,51)\",\"gridcolor\":\"white\",\"linecolor\":\"white\",\"minorgridcolor\":\"white\",\"startlinecolor\":\"rgb(51,51,51)\"},\"type\":\"carpet\"}],\"choropleth\":[{\"colorbar\":{\"outlinewidth\":0,\"tickcolor\":\"rgb(237,237,237)\",\"ticklen\":6,\"ticks\":\"inside\"},\"type\":\"choropleth\"}],\"contourcarpet\":[{\"colorbar\":{\"outlinewidth\":0,\"tickcolor\":\"rgb(237,237,237)\",\"ticklen\":6,\"ticks\":\"inside\"},\"type\":\"contourcarpet\"}],\"contour\":[{\"colorbar\":{\"outlinewidth\":0,\"tickcolor\":\"rgb(237,237,237)\",\"ticklen\":6,\"ticks\":\"inside\"},\"colorscale\":[[0,\"rgb(20,44,66)\"],[1,\"rgb(90,179,244)\"]],\"type\":\"contour\"}],\"heatmapgl\":[{\"colorbar\":{\"outlinewidth\":0,\"tickcolor\":\"rgb(237,237,237)\",\"ticklen\":6,\"ticks\":\"inside\"},\"colorscale\":[[0,\"rgb(20,44,66)\"],[1,\"rgb(90,179,244)\"]],\"type\":\"heatmapgl\"}],\"heatmap\":[{\"colorbar\":{\"outlinewidth\":0,\"tickcolor\":\"rgb(237,237,237)\",\"ticklen\":6,\"ticks\":\"inside\"},\"colorscale\":[[0,\"rgb(20,44,66)\"],[1,\"rgb(90,179,244)\"]],\"type\":\"heatmap\"}],\"histogram2dcontour\":[{\"colorbar\":{\"outlinewidth\":0,\"tickcolor\":\"rgb(237,237,237)\",\"ticklen\":6,\"ticks\":\"inside\"},\"colorscale\":[[0,\"rgb(20,44,66)\"],[1,\"rgb(90,179,244)\"]],\"type\":\"histogram2dcontour\"}],\"histogram2d\":[{\"colorbar\":{\"outlinewidth\":0,\"tickcolor\":\"rgb(237,237,237)\",\"ticklen\":6,\"ticks\":\"inside\"},\"colorscale\":[[0,\"rgb(20,44,66)\"],[1,\"rgb(90,179,244)\"]],\"type\":\"histogram2d\"}],\"histogram\":[{\"marker\":{\"pattern\":{\"fillmode\":\"overlay\",\"size\":10,\"solidity\":0.2}},\"type\":\"histogram\"}],\"mesh3d\":[{\"colorbar\":{\"outlinewidth\":0,\"tickcolor\":\"rgb(237,237,237)\",\"ticklen\":6,\"ticks\":\"inside\"},\"type\":\"mesh3d\"}],\"parcoords\":[{\"line\":{\"colorbar\":{\"outlinewidth\":0,\"tickcolor\":\"rgb(237,237,237)\",\"ticklen\":6,\"ticks\":\"inside\"}},\"type\":\"parcoords\"}],\"pie\":[{\"automargin\":true,\"type\":\"pie\"}],\"scatter3d\":[{\"line\":{\"colorbar\":{\"outlinewidth\":0,\"tickcolor\":\"rgb(237,237,237)\",\"ticklen\":6,\"ticks\":\"inside\"}},\"marker\":{\"colorbar\":{\"outlinewidth\":0,\"tickcolor\":\"rgb(237,237,237)\",\"ticklen\":6,\"ticks\":\"inside\"}},\"type\":\"scatter3d\"}],\"scattercarpet\":[{\"marker\":{\"colorbar\":{\"outlinewidth\":0,\"tickcolor\":\"rgb(237,237,237)\",\"ticklen\":6,\"ticks\":\"inside\"}},\"type\":\"scattercarpet\"}],\"scattergeo\":[{\"marker\":{\"colorbar\":{\"outlinewidth\":0,\"tickcolor\":\"rgb(237,237,237)\",\"ticklen\":6,\"ticks\":\"inside\"}},\"type\":\"scattergeo\"}],\"scattergl\":[{\"marker\":{\"colorbar\":{\"outlinewidth\":0,\"tickcolor\":\"rgb(237,237,237)\",\"ticklen\":6,\"ticks\":\"inside\"}},\"type\":\"scattergl\"}],\"scattermapbox\":[{\"marker\":{\"colorbar\":{\"outlinewidth\":0,\"tickcolor\":\"rgb(237,237,237)\",\"ticklen\":6,\"ticks\":\"inside\"}},\"type\":\"scattermapbox\"}],\"scatterpolargl\":[{\"marker\":{\"colorbar\":{\"outlinewidth\":0,\"tickcolor\":\"rgb(237,237,237)\",\"ticklen\":6,\"ticks\":\"inside\"}},\"type\":\"scatterpolargl\"}],\"scatterpolar\":[{\"marker\":{\"colorbar\":{\"outlinewidth\":0,\"tickcolor\":\"rgb(237,237,237)\",\"ticklen\":6,\"ticks\":\"inside\"}},\"type\":\"scatterpolar\"}],\"scatter\":[{\"fillpattern\":{\"fillmode\":\"overlay\",\"size\":10,\"solidity\":0.2},\"type\":\"scatter\"}],\"scatterternary\":[{\"marker\":{\"colorbar\":{\"outlinewidth\":0,\"tickcolor\":\"rgb(237,237,237)\",\"ticklen\":6,\"ticks\":\"inside\"}},\"type\":\"scatterternary\"}],\"surface\":[{\"colorbar\":{\"outlinewidth\":0,\"tickcolor\":\"rgb(237,237,237)\",\"ticklen\":6,\"ticks\":\"inside\"},\"colorscale\":[[0,\"rgb(20,44,66)\"],[1,\"rgb(90,179,244)\"]],\"type\":\"surface\"}],\"table\":[{\"cells\":{\"fill\":{\"color\":\"rgb(237,237,237)\"},\"line\":{\"color\":\"white\"}},\"header\":{\"fill\":{\"color\":\"rgb(217,217,217)\"},\"line\":{\"color\":\"white\"}},\"type\":\"table\"}]},\"layout\":{\"annotationdefaults\":{\"arrowhead\":0,\"arrowwidth\":1},\"autotypenumbers\":\"strict\",\"coloraxis\":{\"colorbar\":{\"outlinewidth\":0,\"tickcolor\":\"rgb(237,237,237)\",\"ticklen\":6,\"ticks\":\"inside\"}},\"colorscale\":{\"sequential\":[[0,\"rgb(20,44,66)\"],[1,\"rgb(90,179,244)\"]],\"sequentialminus\":[[0,\"rgb(20,44,66)\"],[1,\"rgb(90,179,244)\"]]},\"colorway\":[\"#F8766D\",\"#A3A500\",\"#00BF7D\",\"#00B0F6\",\"#E76BF3\"],\"font\":{\"color\":\"rgb(51,51,51)\"},\"geo\":{\"bgcolor\":\"white\",\"lakecolor\":\"white\",\"landcolor\":\"rgb(237,237,237)\",\"showlakes\":true,\"showland\":true,\"subunitcolor\":\"white\"},\"hoverlabel\":{\"align\":\"left\"},\"hovermode\":\"closest\",\"paper_bgcolor\":\"white\",\"plot_bgcolor\":\"rgb(237,237,237)\",\"polar\":{\"angularaxis\":{\"gridcolor\":\"white\",\"linecolor\":\"white\",\"showgrid\":true,\"tickcolor\":\"rgb(51,51,51)\",\"ticks\":\"outside\"},\"bgcolor\":\"rgb(237,237,237)\",\"radialaxis\":{\"gridcolor\":\"white\",\"linecolor\":\"white\",\"showgrid\":true,\"tickcolor\":\"rgb(51,51,51)\",\"ticks\":\"outside\"}},\"scene\":{\"xaxis\":{\"backgroundcolor\":\"rgb(237,237,237)\",\"gridcolor\":\"white\",\"gridwidth\":2,\"linecolor\":\"white\",\"showbackground\":true,\"showgrid\":true,\"tickcolor\":\"rgb(51,51,51)\",\"ticks\":\"outside\",\"zerolinecolor\":\"white\"},\"yaxis\":{\"backgroundcolor\":\"rgb(237,237,237)\",\"gridcolor\":\"white\",\"gridwidth\":2,\"linecolor\":\"white\",\"showbackground\":true,\"showgrid\":true,\"tickcolor\":\"rgb(51,51,51)\",\"ticks\":\"outside\",\"zerolinecolor\":\"white\"},\"zaxis\":{\"backgroundcolor\":\"rgb(237,237,237)\",\"gridcolor\":\"white\",\"gridwidth\":2,\"linecolor\":\"white\",\"showbackground\":true,\"showgrid\":true,\"tickcolor\":\"rgb(51,51,51)\",\"ticks\":\"outside\",\"zerolinecolor\":\"white\"}},\"shapedefaults\":{\"fillcolor\":\"black\",\"line\":{\"width\":0},\"opacity\":0.3},\"ternary\":{\"aaxis\":{\"gridcolor\":\"white\",\"linecolor\":\"white\",\"showgrid\":true,\"tickcolor\":\"rgb(51,51,51)\",\"ticks\":\"outside\"},\"baxis\":{\"gridcolor\":\"white\",\"linecolor\":\"white\",\"showgrid\":true,\"tickcolor\":\"rgb(51,51,51)\",\"ticks\":\"outside\"},\"bgcolor\":\"rgb(237,237,237)\",\"caxis\":{\"gridcolor\":\"white\",\"linecolor\":\"white\",\"showgrid\":true,\"tickcolor\":\"rgb(51,51,51)\",\"ticks\":\"outside\"}},\"xaxis\":{\"automargin\":true,\"gridcolor\":\"white\",\"linecolor\":\"white\",\"showgrid\":true,\"tickcolor\":\"rgb(51,51,51)\",\"ticks\":\"outside\",\"title\":{\"standoff\":15},\"zerolinecolor\":\"white\"},\"yaxis\":{\"automargin\":true,\"gridcolor\":\"white\",\"linecolor\":\"white\",\"showgrid\":true,\"tickcolor\":\"rgb(51,51,51)\",\"ticks\":\"outside\",\"title\":{\"standoff\":15},\"zerolinecolor\":\"white\"}}},\"legend\":{\"title\":{\"text\":\"species\"},\"tracegroupgap\":0},\"margin\":{\"t\":60},\"dragmode\":\"select\",\"autosize\":false,\"width\":1500,\"height\":1000,\"title\":{\"text\":\"Penguins Scatter Matrix plot\"}},                        {\"responsive\": true}                    ).then(function(){\n",
              "                            \n",
              "var gd = document.getElementById('1c9fcab2-6bfa-4ab4-ac3a-afa49f6fb597');\n",
              "var x = new MutationObserver(function (mutations, observer) {{\n",
              "        var display = window.getComputedStyle(gd).display;\n",
              "        if (!display || display === 'none') {{\n",
              "            console.log([gd, 'removed!']);\n",
              "            Plotly.purge(gd);\n",
              "            observer.disconnect();\n",
              "        }}\n",
              "}});\n",
              "\n",
              "// Listen for the removal of the full notebook cells\n",
              "var notebookContainer = gd.closest('#notebook-container');\n",
              "if (notebookContainer) {{\n",
              "    x.observe(notebookContainer, {childList: true});\n",
              "}}\n",
              "\n",
              "// Listen for the clearing of the current output cell\n",
              "var outputEl = gd.closest('.output');\n",
              "if (outputEl) {{\n",
              "    x.observe(outputEl, {childList: true});\n",
              "}}\n",
              "\n",
              "                        })                };                            </script>        </div>\n",
              "</body>\n",
              "</html>"
            ]
          },
          "metadata": {}
        }
      ]
    },
    {
      "cell_type": "code",
      "source": [
        "data_train.isna().sum()"
      ],
      "metadata": {
        "colab": {
          "base_uri": "https://localhost:8080/"
        },
        "id": "8mrDJ4FEfTEu",
        "outputId": "682177ce-e205-479d-c12d-835091812d04"
      },
      "execution_count": 7,
      "outputs": [
        {
          "output_type": "execute_result",
          "data": {
            "text/plain": [
              "species               0\n",
              "island                0\n",
              "bill_length_mm        2\n",
              "bill_depth_mm         2\n",
              "flipper_length_mm     2\n",
              "body_mass_g           2\n",
              "sex                  10\n",
              "dtype: int64"
            ]
          },
          "metadata": {},
          "execution_count": 7
        }
      ]
    },
    {
      "cell_type": "code",
      "source": [
        "data_train.dtypes"
      ],
      "metadata": {
        "colab": {
          "base_uri": "https://localhost:8080/"
        },
        "id": "WteuZUPVjfTw",
        "outputId": "f19c051b-d53a-4289-e330-5d2528dd6ef7"
      },
      "execution_count": 8,
      "outputs": [
        {
          "output_type": "execute_result",
          "data": {
            "text/plain": [
              "species               object\n",
              "island                object\n",
              "bill_length_mm       float64\n",
              "bill_depth_mm        float64\n",
              "flipper_length_mm    float64\n",
              "body_mass_g          float64\n",
              "sex                   object\n",
              "dtype: object"
            ]
          },
          "metadata": {},
          "execution_count": 8
        }
      ]
    },
    {
      "cell_type": "code",
      "source": [
        "[elem for elem in data_train.columns if data_train[elem].dtype == 'object']\n",
        "[elem for elem in data_train.columns if data_train[elem].dtype != 'object']"
      ],
      "metadata": {
        "colab": {
          "base_uri": "https://localhost:8080/"
        },
        "id": "Vtei2AQ2jYbR",
        "outputId": "9293f7d7-b4fe-4362-82a0-840af6adf22b"
      },
      "execution_count": 9,
      "outputs": [
        {
          "output_type": "execute_result",
          "data": {
            "text/plain": [
              "['bill_length_mm', 'bill_depth_mm', 'flipper_length_mm', 'body_mass_g']"
            ]
          },
          "metadata": {},
          "execution_count": 9
        }
      ]
    },
    {
      "cell_type": "code",
      "source": [
        "from sklearn.pipeline import Pipeline\n",
        "from sklearn.preprocessing import StandardScaler, OrdinalEncoder\n",
        "from sklearn.impute import SimpleImputer\n",
        "from sklearn.compose import ColumnTransformer\n",
        "\n",
        "cat_features = [col for col in data_train.columns if data_train[col].dtype == 'object']\n",
        "num_features = [col for col in data_train.columns if data_train[col].dtype != 'object']\n",
        "\n",
        "numeric_transformer = Pipeline(\n",
        "    steps=[('imputer', SimpleImputer(strategy='mean')),\n",
        "           ('scaler', StandardScaler())\n",
        "])\n",
        "categorical_transformer = Pipeline(\n",
        "    steps=[\n",
        "        ('imputer', SimpleImputer(strategy='constant')),\n",
        "        ('encoder', OrdinalEncoder())]\n",
        ")\n",
        "preprocessor = ColumnTransformer(\n",
        "    transformers=[\n",
        "        ('numeric', numeric_transformer, num_features),\n",
        "        ('categorical', categorical_transformer, cat_features)\n",
        "    ]\n",
        ")\n",
        "\n",
        "pipeline = Pipeline(\n",
        "    steps=[\n",
        "        ('preprocessor', preprocessor),\n",
        "        ('scaler', StandardScaler()), \n",
        "        ('encoder', OrdinalEncoder()),\n",
        "        ('imputer', SimpleImputer(strategy=\"median\"))\n",
        "    ]\n",
        ")\n",
        "\n",
        "train_transformed = pd.DataFrame(pipeline.fit_transform(data_train), columns=pipeline.get_feature_names_out())\n",
        "test_transformed = pd.DataFrame(pipeline.fit_transform(data_test), columns=pipeline.get_feature_names_out())\n",
        "# pipe = Pipeline(steps=[('scaler', StandardScaler()), ('encoder', OrdinalEncoder())\n",
        "#                        ('imputer', SimpleImputer(strategy=\"median\"))])\n",
        "# pipe.fit_transform(data_train)\n",
        "\n",
        "train_transformed.columns"
      ],
      "metadata": {
        "colab": {
          "base_uri": "https://localhost:8080/"
        },
        "id": "pmcEBtllgk0M",
        "outputId": "e85aa8c4-f613-45b7-a1fd-a7ff2596dd63"
      },
      "execution_count": 14,
      "outputs": [
        {
          "output_type": "execute_result",
          "data": {
            "text/plain": [
              "Index(['numeric__bill_length_mm', 'numeric__bill_depth_mm',\n",
              "       'numeric__flipper_length_mm', 'numeric__body_mass_g',\n",
              "       'categorical__species', 'categorical__island', 'categorical__sex'],\n",
              "      dtype='object')"
            ]
          },
          "metadata": {},
          "execution_count": 14
        }
      ]
    },
    {
      "cell_type": "code",
      "source": [
        "(X_train, X_test, y_train, y_test) = (train_transformed.drop('categorical__species', axis=1), \n",
        "                                      test_transformed.drop('categorical__species', axis=1),\n",
        "                                      train_transformed['categorical__species'],\n",
        "                                      test_transformed['categorical__species'])"
      ],
      "metadata": {
        "id": "DiXIjSpJM7kQ"
      },
      "execution_count": 16,
      "outputs": []
    },
    {
      "cell_type": "code",
      "source": [
        "X_train"
      ],
      "metadata": {
        "id": "9DMCAVE4OOoo",
        "outputId": "f9414abb-4116-43be-e622-f0d9a50e5005",
        "colab": {
          "base_uri": "https://localhost:8080/",
          "height": 424
        }
      },
      "execution_count": 17,
      "outputs": [
        {
          "output_type": "execute_result",
          "data": {
            "text/plain": [
              "     numeric__bill_length_mm  numeric__bill_depth_mm  \\\n",
              "0                      133.0                    56.0   \n",
              "1                      103.0                    18.0   \n",
              "2                       91.0                     9.0   \n",
              "3                       29.0                    44.0   \n",
              "4                      124.0                    62.0   \n",
              "..                       ...                     ...   \n",
              "253                     41.0                    35.0   \n",
              "254                     27.0                    38.0   \n",
              "255                     71.0                     8.0   \n",
              "256                      1.0                    58.0   \n",
              "257                     56.0                    51.0   \n",
              "\n",
              "     numeric__flipper_length_mm  numeric__body_mass_g  categorical__island  \\\n",
              "0                          21.0                  17.0                  1.0   \n",
              "1                          38.0                  82.0                  0.0   \n",
              "2                          40.0                  48.0                  0.0   \n",
              "3                          11.0                  16.0                  1.0   \n",
              "4                          17.0                  31.0                  1.0   \n",
              "..                          ...                   ...                  ...   \n",
              "253                         3.0                  10.0                  1.0   \n",
              "254                        10.0                  12.0                  2.0   \n",
              "255                        31.0                  53.0                  0.0   \n",
              "256                        14.0                  23.0                  2.0   \n",
              "257                        19.0                  46.0                  2.0   \n",
              "\n",
              "     categorical__sex  \n",
              "0                 1.0  \n",
              "1                 1.0  \n",
              "2                 0.0  \n",
              "3                 0.0  \n",
              "4                 1.0  \n",
              "..                ...  \n",
              "253               0.0  \n",
              "254               2.0  \n",
              "255               0.0  \n",
              "256               0.0  \n",
              "257               1.0  \n",
              "\n",
              "[258 rows x 6 columns]"
            ],
            "text/html": [
              "\n",
              "  <div id=\"df-c1d559c2-56fb-4c7b-ad50-8a88c9d37b24\">\n",
              "    <div class=\"colab-df-container\">\n",
              "      <div>\n",
              "<style scoped>\n",
              "    .dataframe tbody tr th:only-of-type {\n",
              "        vertical-align: middle;\n",
              "    }\n",
              "\n",
              "    .dataframe tbody tr th {\n",
              "        vertical-align: top;\n",
              "    }\n",
              "\n",
              "    .dataframe thead th {\n",
              "        text-align: right;\n",
              "    }\n",
              "</style>\n",
              "<table border=\"1\" class=\"dataframe\">\n",
              "  <thead>\n",
              "    <tr style=\"text-align: right;\">\n",
              "      <th></th>\n",
              "      <th>numeric__bill_length_mm</th>\n",
              "      <th>numeric__bill_depth_mm</th>\n",
              "      <th>numeric__flipper_length_mm</th>\n",
              "      <th>numeric__body_mass_g</th>\n",
              "      <th>categorical__island</th>\n",
              "      <th>categorical__sex</th>\n",
              "    </tr>\n",
              "  </thead>\n",
              "  <tbody>\n",
              "    <tr>\n",
              "      <th>0</th>\n",
              "      <td>133.0</td>\n",
              "      <td>56.0</td>\n",
              "      <td>21.0</td>\n",
              "      <td>17.0</td>\n",
              "      <td>1.0</td>\n",
              "      <td>1.0</td>\n",
              "    </tr>\n",
              "    <tr>\n",
              "      <th>1</th>\n",
              "      <td>103.0</td>\n",
              "      <td>18.0</td>\n",
              "      <td>38.0</td>\n",
              "      <td>82.0</td>\n",
              "      <td>0.0</td>\n",
              "      <td>1.0</td>\n",
              "    </tr>\n",
              "    <tr>\n",
              "      <th>2</th>\n",
              "      <td>91.0</td>\n",
              "      <td>9.0</td>\n",
              "      <td>40.0</td>\n",
              "      <td>48.0</td>\n",
              "      <td>0.0</td>\n",
              "      <td>0.0</td>\n",
              "    </tr>\n",
              "    <tr>\n",
              "      <th>3</th>\n",
              "      <td>29.0</td>\n",
              "      <td>44.0</td>\n",
              "      <td>11.0</td>\n",
              "      <td>16.0</td>\n",
              "      <td>1.0</td>\n",
              "      <td>0.0</td>\n",
              "    </tr>\n",
              "    <tr>\n",
              "      <th>4</th>\n",
              "      <td>124.0</td>\n",
              "      <td>62.0</td>\n",
              "      <td>17.0</td>\n",
              "      <td>31.0</td>\n",
              "      <td>1.0</td>\n",
              "      <td>1.0</td>\n",
              "    </tr>\n",
              "    <tr>\n",
              "      <th>...</th>\n",
              "      <td>...</td>\n",
              "      <td>...</td>\n",
              "      <td>...</td>\n",
              "      <td>...</td>\n",
              "      <td>...</td>\n",
              "      <td>...</td>\n",
              "    </tr>\n",
              "    <tr>\n",
              "      <th>253</th>\n",
              "      <td>41.0</td>\n",
              "      <td>35.0</td>\n",
              "      <td>3.0</td>\n",
              "      <td>10.0</td>\n",
              "      <td>1.0</td>\n",
              "      <td>0.0</td>\n",
              "    </tr>\n",
              "    <tr>\n",
              "      <th>254</th>\n",
              "      <td>27.0</td>\n",
              "      <td>38.0</td>\n",
              "      <td>10.0</td>\n",
              "      <td>12.0</td>\n",
              "      <td>2.0</td>\n",
              "      <td>2.0</td>\n",
              "    </tr>\n",
              "    <tr>\n",
              "      <th>255</th>\n",
              "      <td>71.0</td>\n",
              "      <td>8.0</td>\n",
              "      <td>31.0</td>\n",
              "      <td>53.0</td>\n",
              "      <td>0.0</td>\n",
              "      <td>0.0</td>\n",
              "    </tr>\n",
              "    <tr>\n",
              "      <th>256</th>\n",
              "      <td>1.0</td>\n",
              "      <td>58.0</td>\n",
              "      <td>14.0</td>\n",
              "      <td>23.0</td>\n",
              "      <td>2.0</td>\n",
              "      <td>0.0</td>\n",
              "    </tr>\n",
              "    <tr>\n",
              "      <th>257</th>\n",
              "      <td>56.0</td>\n",
              "      <td>51.0</td>\n",
              "      <td>19.0</td>\n",
              "      <td>46.0</td>\n",
              "      <td>2.0</td>\n",
              "      <td>1.0</td>\n",
              "    </tr>\n",
              "  </tbody>\n",
              "</table>\n",
              "<p>258 rows × 6 columns</p>\n",
              "</div>\n",
              "      <button class=\"colab-df-convert\" onclick=\"convertToInteractive('df-c1d559c2-56fb-4c7b-ad50-8a88c9d37b24')\"\n",
              "              title=\"Convert this dataframe to an interactive table.\"\n",
              "              style=\"display:none;\">\n",
              "        \n",
              "  <svg xmlns=\"http://www.w3.org/2000/svg\" height=\"24px\"viewBox=\"0 0 24 24\"\n",
              "       width=\"24px\">\n",
              "    <path d=\"M0 0h24v24H0V0z\" fill=\"none\"/>\n",
              "    <path d=\"M18.56 5.44l.94 2.06.94-2.06 2.06-.94-2.06-.94-.94-2.06-.94 2.06-2.06.94zm-11 1L8.5 8.5l.94-2.06 2.06-.94-2.06-.94L8.5 2.5l-.94 2.06-2.06.94zm10 10l.94 2.06.94-2.06 2.06-.94-2.06-.94-.94-2.06-.94 2.06-2.06.94z\"/><path d=\"M17.41 7.96l-1.37-1.37c-.4-.4-.92-.59-1.43-.59-.52 0-1.04.2-1.43.59L10.3 9.45l-7.72 7.72c-.78.78-.78 2.05 0 2.83L4 21.41c.39.39.9.59 1.41.59.51 0 1.02-.2 1.41-.59l7.78-7.78 2.81-2.81c.8-.78.8-2.07 0-2.86zM5.41 20L4 18.59l7.72-7.72 1.47 1.35L5.41 20z\"/>\n",
              "  </svg>\n",
              "      </button>\n",
              "      \n",
              "  <style>\n",
              "    .colab-df-container {\n",
              "      display:flex;\n",
              "      flex-wrap:wrap;\n",
              "      gap: 12px;\n",
              "    }\n",
              "\n",
              "    .colab-df-convert {\n",
              "      background-color: #E8F0FE;\n",
              "      border: none;\n",
              "      border-radius: 50%;\n",
              "      cursor: pointer;\n",
              "      display: none;\n",
              "      fill: #1967D2;\n",
              "      height: 32px;\n",
              "      padding: 0 0 0 0;\n",
              "      width: 32px;\n",
              "    }\n",
              "\n",
              "    .colab-df-convert:hover {\n",
              "      background-color: #E2EBFA;\n",
              "      box-shadow: 0px 1px 2px rgba(60, 64, 67, 0.3), 0px 1px 3px 1px rgba(60, 64, 67, 0.15);\n",
              "      fill: #174EA6;\n",
              "    }\n",
              "\n",
              "    [theme=dark] .colab-df-convert {\n",
              "      background-color: #3B4455;\n",
              "      fill: #D2E3FC;\n",
              "    }\n",
              "\n",
              "    [theme=dark] .colab-df-convert:hover {\n",
              "      background-color: #434B5C;\n",
              "      box-shadow: 0px 1px 3px 1px rgba(0, 0, 0, 0.15);\n",
              "      filter: drop-shadow(0px 1px 2px rgba(0, 0, 0, 0.3));\n",
              "      fill: #FFFFFF;\n",
              "    }\n",
              "  </style>\n",
              "\n",
              "      <script>\n",
              "        const buttonEl =\n",
              "          document.querySelector('#df-c1d559c2-56fb-4c7b-ad50-8a88c9d37b24 button.colab-df-convert');\n",
              "        buttonEl.style.display =\n",
              "          google.colab.kernel.accessAllowed ? 'block' : 'none';\n",
              "\n",
              "        async function convertToInteractive(key) {\n",
              "          const element = document.querySelector('#df-c1d559c2-56fb-4c7b-ad50-8a88c9d37b24');\n",
              "          const dataTable =\n",
              "            await google.colab.kernel.invokeFunction('convertToInteractive',\n",
              "                                                     [key], {});\n",
              "          if (!dataTable) return;\n",
              "\n",
              "          const docLinkHtml = 'Like what you see? Visit the ' +\n",
              "            '<a target=\"_blank\" href=https://colab.research.google.com/notebooks/data_table.ipynb>data table notebook</a>'\n",
              "            + ' to learn more about interactive tables.';\n",
              "          element.innerHTML = '';\n",
              "          dataTable['output_type'] = 'display_data';\n",
              "          await google.colab.output.renderOutput(dataTable, element);\n",
              "          const docLink = document.createElement('div');\n",
              "          docLink.innerHTML = docLinkHtml;\n",
              "          element.appendChild(docLink);\n",
              "        }\n",
              "      </script>\n",
              "    </div>\n",
              "  </div>\n",
              "  "
            ]
          },
          "metadata": {},
          "execution_count": 17
        }
      ]
    },
    {
      "cell_type": "code",
      "source": [
        "from sklearn.linear_model import LogisticRegression\n",
        "from sklearn.ensemble import RandomForestClassifier\n",
        "\n",
        "\n",
        "model = RandomForestClassifier()\n",
        "fit = model.fit(X_train, y_train)\n",
        "preds = fit.predict(X_test)"
      ],
      "metadata": {
        "id": "eIKOFIMKn4kP"
      },
      "execution_count": 27,
      "outputs": []
    },
    {
      "cell_type": "code",
      "source": [
        "from sklearn.metrics import confusion_matrix, ConfusionMatrixDisplay\n",
        "\n",
        "disp = ConfusionMatrixDisplay(confusion_matrix(y_test, preds), display_labels = model.classes_)\n",
        "disp.plot()"
      ],
      "metadata": {
        "id": "mTLDu5xERnGL",
        "outputId": "b8ba69c3-b64b-4014-f142-0cd6d07dc9fd",
        "colab": {
          "base_uri": "https://localhost:8080/",
          "height": 297
        }
      },
      "execution_count": 36,
      "outputs": [
        {
          "output_type": "execute_result",
          "data": {
            "text/plain": [
              "<sklearn.metrics._plot.confusion_matrix.ConfusionMatrixDisplay at 0x7fb328380340>"
            ]
          },
          "metadata": {},
          "execution_count": 36
        },
        {
          "output_type": "display_data",
          "data": {
            "text/plain": [
              "<Figure size 432x288 with 2 Axes>"
            ],
            "image/png": "[encoded data removed]"
          },
          "metadata": {
            "needs_background": "light"
          }
        }
      ]
    },
    {
      "cell_type": "code",
      "source": [
        "preds"
      ],
      "metadata": {
        "id": "G8WzWNRoReO3",
        "outputId": "28758de7-5199-475b-dabc-d0233aeb520f",
        "colab": {
          "base_uri": "https://localhost:8080/"
        }
      },
      "execution_count": 30,
      "outputs": [
        {
          "output_type": "execute_result",
          "data": {
            "text/plain": [
              "array([0., 0., 2., 0., 0., 0., 2., 0., 0., 0., 2., 0., 2., 0., 0., 2., 2.,\n",
              "       2., 2., 1., 0., 0., 2., 2., 2., 0., 0., 0., 0., 0., 0., 2., 0., 0.,\n",
              "       2., 2., 0., 0., 0., 0., 2., 0., 2., 0., 0., 2., 0., 0., 0., 2., 2.,\n",
              "       0., 0., 0., 0., 2., 0., 0., 0., 0., 2., 2., 1., 2., 0., 0., 0., 0.,\n",
              "       0., 0., 0., 0., 0., 0., 2., 0., 0., 0., 0., 0., 0., 0., 0., 0., 0.,\n",
              "       0.])"
            ]
          },
          "metadata": {},
          "execution_count": 30
        }
      ]
    },
    {
      "cell_type": "code",
      "source": [
        "from explainerdashboard import ClassifierExplainer, ExplainerDashboard\n",
        "explainer = ClassifierExplainer(model, X_test, y_test)"
      ],
      "metadata": {
        "id": "Ohr2vy_QPi6O",
        "outputId": "4617d9cc-6a4e-44a4-a237-30d640cbb4c7",
        "colab": {
          "base_uri": "https://localhost:8080/"
        }
      },
      "execution_count": 28,
      "outputs": [
        {
          "output_type": "stream",
          "name": "stdout",
          "text": [
            "Detected RandomForestClassifier model: Changing class type to RandomForestClassifierExplainer...\n",
            "Note: model_output=='probability', so assuming that raw shap output of RandomForestClassifier is in probability space...\n",
            "Generating self.shap_explainer = shap.TreeExplainer(model)\n"
          ]
        }
      ]
    },
    {
      "cell_type": "code",
      "source": [
        "ExplainerDashboard(explainer, mode='external')"
      ],
      "metadata": {
        "id": "d6074eO7P0c-",
        "outputId": "6ffc73a1-9fe0-4f70-fdc7-c211c1e42d23",
        "colab": {
          "base_uri": "https://localhost:8080/"
        }
      },
      "execution_count": 43,
      "outputs": [
        {
          "output_type": "stream",
          "name": "stdout",
          "text": [
            "Building ExplainerDashboard..\n",
            "Warning: calculating shap interaction values can be slow! Pass shap_interaction=False to remove interactions tab.\n",
            "Generating layout...\n",
            "Calculating dependencies...\n",
            "Reminder: you can store the explainer (including calculated dependencies) with explainer.dump('explainer.joblib') and reload with e.g. ClassifierExplainer.from_file('explainer.joblib')\n",
            "Registering callbacks...\n"
          ]
        },
        {
          "output_type": "execute_result",
          "data": {
            "text/plain": [
              "<explainerdashboard.dashboards.ExplainerDashboard at 0x7fb31bf809a0>"
            ]
          },
          "metadata": {},
          "execution_count": 43
        }
      ]
    }
  ]
}